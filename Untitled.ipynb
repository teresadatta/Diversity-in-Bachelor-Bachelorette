{
 "cells": [
  {
   "cell_type": "code",
   "execution_count": 71,
   "metadata": {},
   "outputs": [],
   "source": [
    "import json\n",
    "from pandas import DataFrame"
   ]
  },
  {
   "cell_type": "code",
   "execution_count": 72,
   "metadata": {},
   "outputs": [],
   "source": [
    "with open(\"bachelorette.json\", \"r\") as f:\n",
    "    bach = json.load(f)"
   ]
  },
  {
   "cell_type": "code",
   "execution_count": 73,
   "metadata": {},
   "outputs": [
    {
     "name": "stdout",
     "output_type": "stream",
     "text": [
      "1000\n"
     ]
    }
   ],
   "source": [
    "print(len(bach))"
   ]
  },
  {
   "cell_type": "code",
   "execution_count": 74,
   "metadata": {},
   "outputs": [
    {
     "name": "stdout",
     "output_type": "stream",
     "text": [
      "{'SHOW': 'Bachelorette', 'SEASON': 13, 'CONTESTANT': '13_BRYAN_A', 'ELIMINATION-1': 'R1', 'ELIMINATION-2': '', 'ELIMINATION-3': '', 'ELIMINATION-4': 'R', 'ELIMINATION-5': 'R', 'ELIMINATION-6': '', 'ELIMINATION-7': 'R', 'ELIMINATION-8': '', 'ELIMINATION-9': '', 'ELIMINATION-10': 'W', 'DATES-1': '', 'DATES-2': '', 'DATES-3': 'D6', 'DATES-4': 'D13', 'DATES-5': 'D1', 'DATES-6': 'D7', 'DATES-7': 'D1', 'DATES-8': 'D1', 'DATES-9': 'D1', 'DATES-10': 'D1', 'Race': 'Hispanic', 'Minority Yes/No': 'Yes'}\n"
     ]
    }
   ],
   "source": [
    "print(bach[1])"
   ]
  },
  {
   "cell_type": "code",
   "execution_count": 75,
   "metadata": {},
   "outputs": [
    {
     "name": "stdout",
     "output_type": "stream",
     "text": [
      "{'SHOW': 'SHOW', 'SEASON': 'SEASON', 'CONTESTANT': 'ID', 'ELIMINATION-1': 1, 'ELIMINATION-2': 2, 'ELIMINATION-3': 3, 'ELIMINATION-4': 4, 'ELIMINATION-5': 5, 'ELIMINATION-6': 6, 'ELIMINATION-7': 7, 'ELIMINATION-8': 8, 'ELIMINATION-9': 9, 'ELIMINATION-10': 10, 'DATES-1': 1, 'DATES-2': 2, 'DATES-3': 3, 'DATES-4': 4, 'DATES-5': 5, 'DATES-6': 6, 'DATES-7': 7, 'DATES-8': 8, 'DATES-9': 9, 'DATES-10': 10, 'Race': '', 'Minority Yes/No': ''}\n"
     ]
    }
   ],
   "source": [
    "print(bach[0])"
   ]
  },
  {
   "cell_type": "code",
   "execution_count": 76,
   "metadata": {},
   "outputs": [
    {
     "data": {
      "text/plain": [
       "str"
      ]
     },
     "execution_count": 76,
     "metadata": {},
     "output_type": "execute_result"
    }
   ],
   "source": [
    "type(bach[0]['SEASON'])"
   ]
  },
  {
   "cell_type": "code",
   "execution_count": 77,
   "metadata": {},
   "outputs": [],
   "source": [
    "bach_1 = []\n",
    "for entry in bach: \n",
    "    if(type(entry['SEASON']) ==int):\n",
    "        if (entry['SHOW'] == 'Bachelorette' and entry['SEASON']>3):\n",
    "            bach_1.append(entry)\n",
    "        elif (entry['SHOW'] == 'Bachelor' and entry['SEASON']>6):\n",
    "            bach_1.append(entry)"
   ]
  },
  {
   "cell_type": "code",
   "execution_count": 78,
   "metadata": {},
   "outputs": [
    {
     "name": "stdout",
     "output_type": "stream",
     "text": [
      "661\n"
     ]
    }
   ],
   "source": [
    "print(len(bach_1))"
   ]
  },
  {
   "cell_type": "code",
   "execution_count": 79,
   "metadata": {},
   "outputs": [],
   "source": [
    "div_data = {}"
   ]
  },
  {
   "cell_type": "code",
   "execution_count": 80,
   "metadata": {},
   "outputs": [
    {
     "name": "stdout",
     "output_type": "stream",
     "text": [
      "15\n"
     ]
    }
   ],
   "source": [
    "bachelor_seasons = range(7, 22)\n",
    "print(len(bachelor_seasons))"
   ]
  },
  {
   "cell_type": "code",
   "execution_count": 81,
   "metadata": {},
   "outputs": [],
   "source": [
    "bachelorette_seasons = range(4, 14)\n"
   ]
  },
  {
   "cell_type": "code",
   "execution_count": 82,
   "metadata": {},
   "outputs": [],
   "source": [
    "total_contestants = {}\n",
    "b_season_order= {\"bor_7\": 1, \"bor_8\": 2, \"bor_9\": 3, \"bor_10\": 4,\"bor_11\": 5,\"bor_12\": 6,\"bor_13\": 8,\"bor_14\": 10,\"bor_15\": 12,\n",
    "                \"bor_16\": 14,\"bor_17\": 16,\"bor_18\": 18,\"bor_19\": 20,\"bor_20\": 22,\"bor_21\": 24,\"bette_4\": 7,\"bette_5\": 9\n",
    "                 ,\"bette_6\": 11,\"bette_7\": 13,\"bette_8\": 15,\"bette_9\": 17,\"bette_10\": 19,\"bette_11\": 21,\"bette_12\": 23,\"bette_13\": 25}\n"
   ]
  },
  {
   "cell_type": "code",
   "execution_count": 83,
   "metadata": {},
   "outputs": [],
   "source": [
    "elims = ['ELIMINATION-1', 'ELIMINATION-2', 'ELIMINATION-3', 'ELIMINATION-4', 'ELIMINATION-5', \n",
    "         'ELIMINATION-6', 'ELIMINATION-7', 'ELIMINATION-8', 'ELIMINATION-9', 'ELIMINATION-10']"
   ]
  },
  {
   "cell_type": "code",
   "execution_count": 84,
   "metadata": {},
   "outputs": [
    {
     "name": "stdout",
     "output_type": "stream",
     "text": [
      "25\n"
     ]
    }
   ],
   "source": [
    "print(len(b_season_order))"
   ]
  },
  {
   "cell_type": "code",
   "execution_count": 85,
   "metadata": {},
   "outputs": [],
   "source": [
    "for i in range(1,26):\n",
    "    total_contestants[i] ={'w_1':{}, 'w_2':{}, 'w_3':{}, 'w_4':{}, 'w_5':{},'w_6':{}, 'w_7':{}, 'w_8':{}, 'w_9':{}, 'w_10':{}}\n",
    "    "
   ]
  },
  {
   "cell_type": "code",
   "execution_count": null,
   "metadata": {},
   "outputs": [],
   "source": []
  },
  {
   "cell_type": "code",
   "execution_count": 86,
   "metadata": {},
   "outputs": [],
   "source": [
    "elim_reasons = ['E', 'EQ', 'EF', 'ED', 'EU']\n",
    "# make dictionary for contestant, season , what week they are eliminated\n",
    "elim_dict = {}\n",
    "for contestant in bach_1:\n",
    "    for e in contestant.keys():\n",
    "        if (contestant[e] in elim_reasons):\n",
    "            elim_dict[contestant['CONTESTANT']] = int(e.replace('ELIMINATION-',''))\n",
    "\n",
    "    \n",
    "    "
   ]
  },
  {
   "cell_type": "code",
   "execution_count": 87,
   "metadata": {},
   "outputs": [],
   "source": [
    "for contestant in bach_1:\n",
    "    s1 = contestant['SEASON']\n",
    "    show = contestant['SHOW']\n",
    "    ssn = \"\"\n",
    "    if (show == 'Bachelorette'):\n",
    "        ssn = 'bette_'+ str(s1)\n",
    "    else:\n",
    "        ssn = 'bor_'+str(s1)\n",
    "    szn = b_season_order[ssn]\n",
    "    name = contestant['CONTESTANT']\n",
    "    elim_week = 20\n",
    "    if name in elim_dict:\n",
    "        elim_week = elim_dict[name]\n",
    "    \n",
    "    for w in total_contestants[szn].keys():\n",
    "        k_w = int(w.replace(\"w_\", \"\"))\n",
    "        if elim_week >= k_w:\n",
    "            if 'total' in total_contestants[szn][w]:\n",
    "                total_contestants[szn][w]['total'] +=1\n",
    "            else:\n",
    "                total_contestants[szn][w]['total'] =1"
   ]
  },
  {
   "cell_type": "code",
   "execution_count": 88,
   "metadata": {},
   "outputs": [
    {
     "name": "stdout",
     "output_type": "stream",
     "text": [
      "{1: {'w_1': {'total': 25}, 'w_2': {'total': 12}, 'w_3': {'total': 8}, 'w_4': {'total': 6}, 'w_5': {'total': 4}, 'w_6': {'total': 3}, 'w_7': {'total': 2}, 'w_8': {'total': 1}, 'w_9': {'total': 1}, 'w_10': {'total': 1}}, 2: {'w_1': {'total': 25}, 'w_2': {'total': 12}, 'w_3': {'total': 8}, 'w_4': {'total': 6}, 'w_5': {'total': 4}, 'w_6': {'total': 3}, 'w_7': {'total': 2}, 'w_8': {'total': 1}, 'w_9': {'total': 1}, 'w_10': {'total': 1}}, 3: {'w_1': {'total': 27}, 'w_2': {'total': 12}, 'w_3': {'total': 9}, 'w_4': {'total': 6}, 'w_5': {'total': 4}, 'w_6': {'total': 3}, 'w_7': {'total': 2}, 'w_8': {'total': 1}, 'w_9': {'total': 1}, 'w_10': {'total': 1}}, 4: {'w_1': {'total': 25}, 'w_2': {'total': 15}, 'w_3': {'total': 12}, 'w_4': {'total': 9}, 'w_5': {'total': 6}, 'w_6': {'total': 4}, 'w_7': {'total': 3}, 'w_8': {'total': 2}, 'w_9': {'total': 1}, 'w_10': {'total': 1}}, 5: {'w_1': {'total': 25}, 'w_2': {'total': 15}, 'w_3': {'total': 12}, 'w_4': {'total': 9}, 'w_5': {'total': 6}, 'w_6': {'total': 4}, 'w_7': {'total': 3}, 'w_8': {'total': 2}, 'w_9': {}, 'w_10': {}}, 6: {'w_1': {'total': 25}, 'w_2': {'total': 15}, 'w_3': {'total': 12}, 'w_4': {'total': 9}, 'w_5': {'total': 6}, 'w_6': {'total': 4}, 'w_7': {'total': 3}, 'w_8': {'total': 2}, 'w_9': {'total': 1}, 'w_10': {'total': 1}}, 7: {'w_1': {'total': 25}, 'w_2': {'total': 15}, 'w_3': {'total': 12}, 'w_4': {'total': 9}, 'w_5': {'total': 6}, 'w_6': {'total': 4}, 'w_7': {'total': 3}, 'w_8': {'total': 2}, 'w_9': {'total': 1}, 'w_10': {'total': 1}}, 8: {'w_1': {'total': 25}, 'w_2': {'total': 15}, 'w_3': {'total': 12}, 'w_4': {'total': 9}, 'w_5': {'total': 5}, 'w_6': {'total': 4}, 'w_7': {'total': 3}, 'w_8': {'total': 2}, 'w_9': {'total': 1}, 'w_10': {'total': 1}}, 9: {'w_1': {'total': 30}, 'w_2': {'total': 20}, 'w_3': {'total': 16}, 'w_4': {'total': 13}, 'w_5': {'total': 10}, 'w_6': {'total': 9}, 'w_7': {'total': 6}, 'w_8': {'total': 4}, 'w_9': {'total': 3}, 'w_10': {'total': 2}}, 10: {'w_1': {'total': 25}, 'w_2': {'total': 15}, 'w_3': {'total': 12}, 'w_4': {'total': 9}, 'w_5': {'total': 5}, 'w_6': {'total': 4}, 'w_7': {'total': 3}, 'w_8': {'total': 2}, 'w_9': {'total': 1}, 'w_10': {'total': 1}}, 11: {'w_1': {'total': 25}, 'w_2': {'total': 17}, 'w_3': {'total': 14}, 'w_4': {'total': 11}, 'w_5': {'total': 9}, 'w_6': {'total': 7}, 'w_7': {'total': 5}, 'w_8': {'total': 4}, 'w_9': {'total': 3}, 'w_10': {'total': 2}}, 12: {'w_1': {'total': 30}, 'w_2': {'total': 20}, 'w_3': {'total': 17}, 'w_4': {'total': 14}, 'w_5': {'total': 11}, 'w_6': {'total': 8}, 'w_7': {'total': 6}, 'w_8': {'total': 4}, 'w_9': {'total': 3}, 'w_10': {'total': 2}}, 13: {'w_1': {'total': 25}, 'w_2': {'total': 18}, 'w_3': {'total': 14}, 'w_4': {'total': 11}, 'w_5': {'total': 10}, 'w_6': {'total': 7}, 'w_7': {'total': 6}, 'w_8': {'total': 4}, 'w_9': {'total': 3}, 'w_10': {'total': 2}}, 14: {'w_1': {'total': 25}, 'w_2': {'total': 18}, 'w_3': {'total': 16}, 'w_4': {'total': 13}, 'w_5': {'total': 11}, 'w_6': {'total': 9}, 'w_7': {'total': 6}, 'w_8': {'total': 4}, 'w_9': {'total': 3}, 'w_10': {'total': 2}}, 15: {'w_1': {'total': 25}, 'w_2': {'total': 19}, 'w_3': {'total': 16}, 'w_4': {'total': 13}, 'w_5': {'total': 10}, 'w_6': {'total': 8}, 'w_7': {'total': 6}, 'w_8': {'total': 4}, 'w_9': {'total': 3}, 'w_10': {'total': 2}}, 16: {'w_1': {'total': 26}, 'w_2': {'total': 19}, 'w_3': {'total': 16}, 'w_4': {'total': 13}, 'w_5': {'total': 11}, 'w_6': {'total': 9}, 'w_7': {'total': 6}, 'w_8': {'total': 4}, 'w_9': {'total': 3}, 'w_10': {'total': 2}}, 17: {'w_1': {'total': 25}, 'w_2': {'total': 19}, 'w_3': {'total': 16}, 'w_4': {'total': 13}, 'w_5': {'total': 11}, 'w_6': {'total': 8}, 'w_7': {'total': 5}, 'w_8': {'total': 4}, 'w_9': {'total': 3}, 'w_10': {'total': 2}}, 18: {'w_1': {'total': 27}, 'w_2': {'total': 18}, 'w_3': {'total': 15}, 'w_4': {'total': 13}, 'w_5': {'total': 11}, 'w_6': {'total': 8}, 'w_7': {'total': 6}, 'w_8': {'total': 4}, 'w_9': {'total': 3}, 'w_10': {'total': 2}}, 19: {'w_1': {'total': 25}, 'w_2': {'total': 19}, 'w_3': {'total': 16}, 'w_4': {'total': 13}, 'w_5': {'total': 11}, 'w_6': {'total': 8}, 'w_7': {'total': 6}, 'w_8': {'total': 4}, 'w_9': {'total': 3}, 'w_10': {'total': 2}}, 20: {'w_1': {'total': 30}, 'w_2': {'total': 22}, 'w_3': {'total': 18}, 'w_4': {'total': 15}, 'w_5': {'total': 11}, 'w_6': {'total': 9}, 'w_7': {'total': 6}, 'w_8': {'total': 4}, 'w_9': {'total': 3}, 'w_10': {'total': 2}}, 21: {'w_1': {'total': 26}, 'w_2': {'total': 20}, 'w_3': {'total': 17}, 'w_4': {'total': 15}, 'w_5': {'total': 12}, 'w_6': {'total': 9}, 'w_7': {'total': 6}, 'w_8': {'total': 3}, 'w_9': {'total': 2}, 'w_10': {'total': 1}}, 22: {'w_1': {'total': 28}, 'w_2': {'total': 21}, 'w_3': {'total': 17}, 'w_4': {'total': 14}, 'w_5': {'total': 11}, 'w_6': {'total': 9}, 'w_7': {'total': 6}, 'w_8': {'total': 4}, 'w_9': {'total': 3}, 'w_10': {'total': 2}}, 23: {'w_1': {'total': 26}, 'w_2': {'total': 20}, 'w_3': {'total': 17}, 'w_4': {'total': 14}, 'w_5': {'total': 11}, 'w_6': {'total': 8}, 'w_7': {'total': 6}, 'w_8': {'total': 4}, 'w_9': {'total': 3}, 'w_10': {'total': 2}}, 24: {'w_1': {'total': 30}, 'w_2': {'total': 22}, 'w_3': {'total': 18}, 'w_4': {'total': 15}, 'w_5': {'total': 13}, 'w_6': {'total': 9}, 'w_7': {'total': 6}, 'w_8': {'total': 4}, 'w_9': {'total': 3}, 'w_10': {'total': 2}}, 25: {'w_1': {'total': 31}, 'w_2': {'total': 23}, 'w_3': {'total': 19}, 'w_4': {'total': 15}, 'w_5': {'total': 12}, 'w_6': {'total': 9}, 'w_7': {'total': 6}, 'w_8': {'total': 4}, 'w_9': {'total': 3}, 'w_10': {'total': 2}}}\n"
     ]
    }
   ],
   "source": [
    "print(total_contestants)"
   ]
  },
  {
   "cell_type": "code",
   "execution_count": 89,
   "metadata": {},
   "outputs": [],
   "source": [
    "for contestant in bach_1:\n",
    "    if contestant['Minority Yes/No']=='Yes':\n",
    "        s1 = contestant['SEASON']\n",
    "        show = contestant['SHOW']\n",
    "        ssn = \"\"\n",
    "        if (show == 'Bachelorette'):\n",
    "            ssn = 'bette_'+ str(s1)\n",
    "        else:\n",
    "            ssn = 'bor_'+str(s1)\n",
    "        szn = b_season_order[ssn]\n",
    "        name = contestant['CONTESTANT']\n",
    "        elim_week = 20\n",
    "        if name in elim_dict:\n",
    "            elim_week = elim_dict[name]\n",
    "\n",
    "        for w in total_contestants[szn].keys():\n",
    "            k_w = int(w.replace(\"w_\", \"\"))\n",
    "            if elim_week >= k_w:\n",
    "                if 'minority' in total_contestants[szn][w]:\n",
    "                    total_contestants[szn][w]['minority'] +=1\n",
    "                else:\n",
    "                    total_contestants[szn][w]['minority'] =1"
   ]
  },
  {
   "cell_type": "code",
   "execution_count": 96,
   "metadata": {},
   "outputs": [
    {
     "name": "stdout",
     "output_type": "stream",
     "text": [
      "5 w_9 {}\n",
      "5 w_10 {}\n"
     ]
    }
   ],
   "source": [
    "for s in total_contestants.keys():\n",
    "    for w in total_contestants[s]:\n",
    "        if not('total' in total_contestants[s][w].keys()):\n",
    "            print(s, w, total_contestants[s][w])"
   ]
  },
  {
   "cell_type": "code",
   "execution_count": 97,
   "metadata": {},
   "outputs": [],
   "source": [
    "for s in total_contestants.keys():\n",
    "    for w in total_contestants[s]:\n",
    "        m=0\n",
    "        if 'minority' in total_contestants[s][w]:\n",
    "            m = total_contestants[s][w]['minority']\n",
    "        \n",
    "    \n",
    "        total_contestants[s][w]['ratio']= 2\n",
    "        \n",
    "        if 'total' in total_contestants[s][w]:\n",
    "            total_contestants[s][w]['ratio']= m/(total_contestants[s][w]['total'])"
   ]
  },
  {
   "cell_type": "code",
   "execution_count": 98,
   "metadata": {},
   "outputs": [
    {
     "name": "stdout",
     "output_type": "stream",
     "text": [
      "{1: {'w_1': {'total': 25, 'minority': 2, 'ratio': 0.08}, 'w_2': {'total': 12, 'ratio': 0.0}, 'w_3': {'total': 8, 'ratio': 0.0}, 'w_4': {'total': 6, 'ratio': 0.0}, 'w_5': {'total': 4, 'ratio': 0.0}, 'w_6': {'total': 3, 'ratio': 0.0}, 'w_7': {'total': 2, 'ratio': 0.0}, 'w_8': {'total': 1, 'ratio': 0.0}, 'w_9': {'total': 1, 'ratio': 0.0}, 'w_10': {'total': 1, 'ratio': 0.0}}, 2: {'w_1': {'total': 25, 'minority': 5, 'ratio': 0.2}, 'w_2': {'total': 12, 'minority': 1, 'ratio': 0.08333333333333333}, 'w_3': {'total': 8, 'minority': 1, 'ratio': 0.125}, 'w_4': {'total': 6, 'minority': 1, 'ratio': 0.16666666666666666}, 'w_5': {'total': 4, 'minority': 1, 'ratio': 0.25}, 'w_6': {'total': 3, 'minority': 1, 'ratio': 0.3333333333333333}, 'w_7': {'total': 2, 'minority': 1, 'ratio': 0.5}, 'w_8': {'total': 1, 'ratio': 0.0}, 'w_9': {'total': 1, 'ratio': 0.0}, 'w_10': {'total': 1, 'ratio': 0.0}}, 3: {'w_1': {'total': 27, 'ratio': 0.0}, 'w_2': {'total': 12, 'ratio': 0.0}, 'w_3': {'total': 9, 'ratio': 0.0}, 'w_4': {'total': 6, 'ratio': 0.0}, 'w_5': {'total': 4, 'ratio': 0.0}, 'w_6': {'total': 3, 'ratio': 0.0}, 'w_7': {'total': 2, 'ratio': 0.0}, 'w_8': {'total': 1, 'ratio': 0.0}, 'w_9': {'total': 1, 'ratio': 0.0}, 'w_10': {'total': 1, 'ratio': 0.0}}, 4: {'w_1': {'total': 25, 'minority': 5, 'ratio': 0.2}, 'w_2': {'total': 15, 'minority': 3, 'ratio': 0.2}, 'w_3': {'total': 12, 'minority': 3, 'ratio': 0.25}, 'w_4': {'total': 9, 'minority': 3, 'ratio': 0.3333333333333333}, 'w_5': {'total': 6, 'minority': 3, 'ratio': 0.5}, 'w_6': {'total': 4, 'minority': 2, 'ratio': 0.5}, 'w_7': {'total': 3, 'minority': 1, 'ratio': 0.3333333333333333}, 'w_8': {'total': 2, 'minority': 1, 'ratio': 0.5}, 'w_9': {'total': 1, 'minority': 1, 'ratio': 1.0}, 'w_10': {'total': 1, 'minority': 1, 'ratio': 1.0}}, 5: {'w_1': {'total': 25, 'minority': 4, 'ratio': 0.16}, 'w_2': {'total': 15, 'minority': 3, 'ratio': 0.2}, 'w_3': {'total': 12, 'minority': 3, 'ratio': 0.25}, 'w_4': {'total': 9, 'minority': 2, 'ratio': 0.2222222222222222}, 'w_5': {'total': 6, 'minority': 1, 'ratio': 0.16666666666666666}, 'w_6': {'total': 4, 'minority': 1, 'ratio': 0.25}, 'w_7': {'total': 3, 'minority': 1, 'ratio': 0.3333333333333333}, 'w_8': {'total': 2, 'minority': 1, 'ratio': 0.5}, 'w_9': {'ratio': 2}, 'w_10': {'ratio': 2}}, 6: {'w_1': {'total': 25, 'minority': 1, 'ratio': 0.04}, 'w_2': {'total': 15, 'minority': 1, 'ratio': 0.06666666666666667}, 'w_3': {'total': 12, 'minority': 1, 'ratio': 0.08333333333333333}, 'w_4': {'total': 9, 'minority': 1, 'ratio': 0.1111111111111111}, 'w_5': {'total': 6, 'minority': 1, 'ratio': 0.16666666666666666}, 'w_6': {'total': 4, 'ratio': 0.0}, 'w_7': {'total': 3, 'ratio': 0.0}, 'w_8': {'total': 2, 'ratio': 0.0}, 'w_9': {'total': 1, 'ratio': 0.0}, 'w_10': {'total': 1, 'ratio': 0.0}}, 7: {'w_1': {'total': 25, 'minority': 2, 'ratio': 0.08}, 'w_2': {'total': 15, 'minority': 1, 'ratio': 0.06666666666666667}, 'w_3': {'total': 12, 'ratio': 0.0}, 'w_4': {'total': 9, 'ratio': 0.0}, 'w_5': {'total': 6, 'ratio': 0.0}, 'w_6': {'total': 4, 'ratio': 0.0}, 'w_7': {'total': 3, 'ratio': 0.0}, 'w_8': {'total': 2, 'ratio': 0.0}, 'w_9': {'total': 1, 'ratio': 0.0}, 'w_10': {'total': 1, 'ratio': 0.0}}, 8: {'w_1': {'total': 25, 'minority': 3, 'ratio': 0.12}, 'w_2': {'total': 15, 'minority': 1, 'ratio': 0.06666666666666667}, 'w_3': {'total': 12, 'ratio': 0.0}, 'w_4': {'total': 9, 'ratio': 0.0}, 'w_5': {'total': 5, 'ratio': 0.0}, 'w_6': {'total': 4, 'ratio': 0.0}, 'w_7': {'total': 3, 'ratio': 0.0}, 'w_8': {'total': 2, 'ratio': 0.0}, 'w_9': {'total': 1, 'ratio': 0.0}, 'w_10': {'total': 1, 'ratio': 0.0}}, 9: {'w_1': {'total': 30, 'minority': 1, 'ratio': 0.03333333333333333}, 'w_2': {'total': 20, 'ratio': 0.0}, 'w_3': {'total': 16, 'ratio': 0.0}, 'w_4': {'total': 13, 'ratio': 0.0}, 'w_5': {'total': 10, 'ratio': 0.0}, 'w_6': {'total': 9, 'ratio': 0.0}, 'w_7': {'total': 6, 'ratio': 0.0}, 'w_8': {'total': 4, 'ratio': 0.0}, 'w_9': {'total': 3, 'ratio': 0.0}, 'w_10': {'total': 2, 'ratio': 0.0}}, 10: {'w_1': {'total': 25, 'minority': 1, 'ratio': 0.04}, 'w_2': {'total': 15, 'ratio': 0.0}, 'w_3': {'total': 12, 'ratio': 0.0}, 'w_4': {'total': 9, 'ratio': 0.0}, 'w_5': {'total': 5, 'ratio': 0.0}, 'w_6': {'total': 4, 'ratio': 0.0}, 'w_7': {'total': 3, 'ratio': 0.0}, 'w_8': {'total': 2, 'ratio': 0.0}, 'w_9': {'total': 1, 'ratio': 0.0}, 'w_10': {'total': 1, 'ratio': 0.0}}, 11: {'w_1': {'total': 25, 'minority': 1, 'ratio': 0.04}, 'w_2': {'total': 17, 'minority': 1, 'ratio': 0.058823529411764705}, 'w_3': {'total': 14, 'minority': 1, 'ratio': 0.07142857142857142}, 'w_4': {'total': 11, 'minority': 1, 'ratio': 0.09090909090909091}, 'w_5': {'total': 9, 'minority': 1, 'ratio': 0.1111111111111111}, 'w_6': {'total': 7, 'minority': 1, 'ratio': 0.14285714285714285}, 'w_7': {'total': 5, 'minority': 1, 'ratio': 0.2}, 'w_8': {'total': 4, 'minority': 1, 'ratio': 0.25}, 'w_9': {'total': 3, 'minority': 1, 'ratio': 0.3333333333333333}, 'w_10': {'total': 2, 'minority': 1, 'ratio': 0.5}}, 12: {'w_1': {'total': 30, 'ratio': 0.0}, 'w_2': {'total': 20, 'ratio': 0.0}, 'w_3': {'total': 17, 'ratio': 0.0}, 'w_4': {'total': 14, 'ratio': 0.0}, 'w_5': {'total': 11, 'ratio': 0.0}, 'w_6': {'total': 8, 'ratio': 0.0}, 'w_7': {'total': 6, 'ratio': 0.0}, 'w_8': {'total': 4, 'ratio': 0.0}, 'w_9': {'total': 3, 'ratio': 0.0}, 'w_10': {'total': 2, 'ratio': 0.0}}, 13: {'w_1': {'total': 25, 'ratio': 0.0}, 'w_2': {'total': 18, 'ratio': 0.0}, 'w_3': {'total': 14, 'ratio': 0.0}, 'w_4': {'total': 11, 'ratio': 0.0}, 'w_5': {'total': 10, 'ratio': 0.0}, 'w_6': {'total': 7, 'ratio': 0.0}, 'w_7': {'total': 6, 'ratio': 0.0}, 'w_8': {'total': 4, 'ratio': 0.0}, 'w_9': {'total': 3, 'ratio': 0.0}, 'w_10': {'total': 2, 'ratio': 0.0}}, 14: {'w_1': {'total': 25, 'minority': 1, 'ratio': 0.04}, 'w_2': {'total': 18, 'ratio': 0.0}, 'w_3': {'total': 16, 'ratio': 0.0}, 'w_4': {'total': 13, 'ratio': 0.0}, 'w_5': {'total': 11, 'ratio': 0.0}, 'w_6': {'total': 9, 'ratio': 0.0}, 'w_7': {'total': 6, 'ratio': 0.0}, 'w_8': {'total': 4, 'ratio': 0.0}, 'w_9': {'total': 3, 'ratio': 0.0}, 'w_10': {'total': 2, 'ratio': 0.0}}, 15: {'w_1': {'total': 25, 'minority': 2, 'ratio': 0.08}, 'w_2': {'total': 19, 'minority': 1, 'ratio': 0.05263157894736842}, 'w_3': {'total': 16, 'minority': 1, 'ratio': 0.0625}, 'w_4': {'total': 13, 'minority': 1, 'ratio': 0.07692307692307693}, 'w_5': {'total': 10, 'minority': 1, 'ratio': 0.1}, 'w_6': {'total': 8, 'ratio': 0.0}, 'w_7': {'total': 6, 'ratio': 0.0}, 'w_8': {'total': 4, 'ratio': 0.0}, 'w_9': {'total': 3, 'ratio': 0.0}, 'w_10': {'total': 2, 'ratio': 0.0}}, 16: {'w_1': {'total': 26, 'minority': 6, 'ratio': 0.23076923076923078}, 'w_2': {'total': 19, 'minority': 5, 'ratio': 0.2631578947368421}, 'w_3': {'total': 16, 'minority': 4, 'ratio': 0.25}, 'w_4': {'total': 13, 'minority': 4, 'ratio': 0.3076923076923077}, 'w_5': {'total': 11, 'minority': 3, 'ratio': 0.2727272727272727}, 'w_6': {'total': 9, 'minority': 2, 'ratio': 0.2222222222222222}, 'w_7': {'total': 6, 'minority': 1, 'ratio': 0.16666666666666666}, 'w_8': {'total': 4, 'minority': 1, 'ratio': 0.25}, 'w_9': {'total': 3, 'minority': 1, 'ratio': 0.3333333333333333}, 'w_10': {'total': 2, 'minority': 1, 'ratio': 0.5}}, 17: {'w_1': {'total': 25, 'minority': 6, 'ratio': 0.24}, 'w_2': {'total': 19, 'minority': 4, 'ratio': 0.21052631578947367}, 'w_3': {'total': 16, 'minority': 3, 'ratio': 0.1875}, 'w_4': {'total': 13, 'minority': 3, 'ratio': 0.23076923076923078}, 'w_5': {'total': 11, 'minority': 3, 'ratio': 0.2727272727272727}, 'w_6': {'total': 8, 'minority': 2, 'ratio': 0.25}, 'w_7': {'total': 5, 'ratio': 0.0}, 'w_8': {'total': 4, 'ratio': 0.0}, 'w_9': {'total': 3, 'ratio': 0.0}, 'w_10': {'total': 2, 'ratio': 0.0}}, 18: {'w_1': {'total': 27, 'minority': 3, 'ratio': 0.1111111111111111}, 'w_2': {'total': 18, 'minority': 3, 'ratio': 0.16666666666666666}, 'w_3': {'total': 15, 'minority': 2, 'ratio': 0.13333333333333333}, 'w_4': {'total': 13, 'minority': 2, 'ratio': 0.15384615384615385}, 'w_5': {'total': 11, 'minority': 2, 'ratio': 0.18181818181818182}, 'w_6': {'total': 8, 'minority': 1, 'ratio': 0.125}, 'w_7': {'total': 6, 'minority': 1, 'ratio': 0.16666666666666666}, 'w_8': {'total': 4, 'ratio': 0.0}, 'w_9': {'total': 3, 'ratio': 0.0}, 'w_10': {'total': 2, 'ratio': 0.0}}, 19: {'w_1': {'total': 25, 'minority': 3, 'ratio': 0.12}, 'w_2': {'total': 19, 'minority': 3, 'ratio': 0.15789473684210525}, 'w_3': {'total': 16, 'minority': 3, 'ratio': 0.1875}, 'w_4': {'total': 13, 'minority': 2, 'ratio': 0.15384615384615385}, 'w_5': {'total': 11, 'minority': 1, 'ratio': 0.09090909090909091}, 'w_6': {'total': 8, 'ratio': 0.0}, 'w_7': {'total': 6, 'ratio': 0.0}, 'w_8': {'total': 4, 'ratio': 0.0}, 'w_9': {'total': 3, 'ratio': 0.0}, 'w_10': {'total': 2, 'ratio': 0.0}}, 20: {'w_1': {'total': 30, 'minority': 2, 'ratio': 0.06666666666666667}, 'w_2': {'total': 22, 'minority': 2, 'ratio': 0.09090909090909091}, 'w_3': {'total': 18, 'minority': 2, 'ratio': 0.1111111111111111}, 'w_4': {'total': 15, 'minority': 1, 'ratio': 0.06666666666666667}, 'w_5': {'total': 11, 'minority': 1, 'ratio': 0.09090909090909091}, 'w_6': {'total': 9, 'minority': 1, 'ratio': 0.1111111111111111}, 'w_7': {'total': 6, 'minority': 1, 'ratio': 0.16666666666666666}, 'w_8': {'total': 4, 'ratio': 0.0}, 'w_9': {'total': 3, 'ratio': 0.0}, 'w_10': {'total': 2, 'ratio': 0.0}}, 21: {'w_1': {'total': 26, 'minority': 4, 'ratio': 0.15384615384615385}, 'w_2': {'total': 20, 'minority': 3, 'ratio': 0.15}, 'w_3': {'total': 17, 'minority': 2, 'ratio': 0.11764705882352941}, 'w_4': {'total': 15, 'minority': 2, 'ratio': 0.13333333333333333}, 'w_5': {'total': 12, 'minority': 1, 'ratio': 0.08333333333333333}, 'w_6': {'total': 9, 'ratio': 0.0}, 'w_7': {'total': 6, 'ratio': 0.0}, 'w_8': {'total': 3, 'ratio': 0.0}, 'w_9': {'total': 2, 'ratio': 0.0}, 'w_10': {'total': 1, 'ratio': 0.0}}, 22: {'w_1': {'total': 28, 'minority': 4, 'ratio': 0.14285714285714285}, 'w_2': {'total': 21, 'minority': 4, 'ratio': 0.19047619047619047}, 'w_3': {'total': 17, 'minority': 4, 'ratio': 0.23529411764705882}, 'w_4': {'total': 14, 'minority': 3, 'ratio': 0.21428571428571427}, 'w_5': {'total': 11, 'minority': 2, 'ratio': 0.18181818181818182}, 'w_6': {'total': 9, 'minority': 1, 'ratio': 0.1111111111111111}, 'w_7': {'total': 6, 'minority': 1, 'ratio': 0.16666666666666666}, 'w_8': {'total': 4, 'minority': 1, 'ratio': 0.25}, 'w_9': {'total': 3, 'minority': 1, 'ratio': 0.3333333333333333}, 'w_10': {'total': 2, 'ratio': 0.0}}, 23: {'w_1': {'total': 26, 'minority': 7, 'ratio': 0.2692307692307692}, 'w_2': {'total': 20, 'minority': 3, 'ratio': 0.15}, 'w_3': {'total': 17, 'minority': 3, 'ratio': 0.17647058823529413}, 'w_4': {'total': 14, 'minority': 1, 'ratio': 0.07142857142857142}, 'w_5': {'total': 11, 'minority': 1, 'ratio': 0.09090909090909091}, 'w_6': {'total': 8, 'ratio': 0.0}, 'w_7': {'total': 6, 'ratio': 0.0}, 'w_8': {'total': 4, 'ratio': 0.0}, 'w_9': {'total': 3, 'ratio': 0.0}, 'w_10': {'total': 2, 'ratio': 0.0}}, 24: {'w_1': {'total': 30, 'minority': 11, 'ratio': 0.36666666666666664}, 'w_2': {'total': 22, 'minority': 7, 'ratio': 0.3181818181818182}, 'w_3': {'total': 18, 'minority': 7, 'ratio': 0.3888888888888889}, 'w_4': {'total': 15, 'minority': 5, 'ratio': 0.3333333333333333}, 'w_5': {'total': 13, 'minority': 5, 'ratio': 0.38461538461538464}, 'w_6': {'total': 9, 'minority': 3, 'ratio': 0.3333333333333333}, 'w_7': {'total': 6, 'minority': 1, 'ratio': 0.16666666666666666}, 'w_8': {'total': 4, 'minority': 1, 'ratio': 0.25}, 'w_9': {'total': 3, 'minority': 1, 'ratio': 0.3333333333333333}, 'w_10': {'total': 2, 'ratio': 0.0}}, 25: {'w_1': {'total': 31, 'minority': 16, 'ratio': 0.5161290322580645}, 'w_2': {'total': 23, 'minority': 10, 'ratio': 0.43478260869565216}, 'w_3': {'total': 19, 'minority': 9, 'ratio': 0.47368421052631576}, 'w_4': {'total': 15, 'minority': 7, 'ratio': 0.4666666666666667}, 'w_5': {'total': 12, 'minority': 6, 'ratio': 0.5}, 'w_6': {'total': 9, 'minority': 4, 'ratio': 0.4444444444444444}, 'w_7': {'total': 6, 'minority': 2, 'ratio': 0.3333333333333333}, 'w_8': {'total': 4, 'minority': 2, 'ratio': 0.5}, 'w_9': {'total': 3, 'minority': 2, 'ratio': 0.6666666666666666}, 'w_10': {'total': 2, 'minority': 1, 'ratio': 0.5}}}\n"
     ]
    }
   ],
   "source": [
    "print(total_contestants)"
   ]
  },
  {
   "cell_type": "code",
   "execution_count": 100,
   "metadata": {},
   "outputs": [],
   "source": [
    "F = []\n",
    "for s in total_contestants:\n",
    "    \n",
    "    for w in total_contestants[s]:\n",
    "        F.append({'Order': s, 'Week': w, 'Ratio': total_contestants[s][w]['ratio']})"
   ]
  },
  {
   "cell_type": "code",
   "execution_count": 101,
   "metadata": {},
   "outputs": [
    {
     "name": "stdout",
     "output_type": "stream",
     "text": [
      "[{'Order': 1, 'Week': 'w_1', 'Ratio': 0.08}, {'Order': 1, 'Week': 'w_2', 'Ratio': 0.0}, {'Order': 1, 'Week': 'w_3', 'Ratio': 0.0}, {'Order': 1, 'Week': 'w_4', 'Ratio': 0.0}, {'Order': 1, 'Week': 'w_5', 'Ratio': 0.0}, {'Order': 1, 'Week': 'w_6', 'Ratio': 0.0}, {'Order': 1, 'Week': 'w_7', 'Ratio': 0.0}, {'Order': 1, 'Week': 'w_8', 'Ratio': 0.0}, {'Order': 1, 'Week': 'w_9', 'Ratio': 0.0}, {'Order': 1, 'Week': 'w_10', 'Ratio': 0.0}, {'Order': 2, 'Week': 'w_1', 'Ratio': 0.2}, {'Order': 2, 'Week': 'w_2', 'Ratio': 0.08333333333333333}, {'Order': 2, 'Week': 'w_3', 'Ratio': 0.125}, {'Order': 2, 'Week': 'w_4', 'Ratio': 0.16666666666666666}, {'Order': 2, 'Week': 'w_5', 'Ratio': 0.25}, {'Order': 2, 'Week': 'w_6', 'Ratio': 0.3333333333333333}, {'Order': 2, 'Week': 'w_7', 'Ratio': 0.5}, {'Order': 2, 'Week': 'w_8', 'Ratio': 0.0}, {'Order': 2, 'Week': 'w_9', 'Ratio': 0.0}, {'Order': 2, 'Week': 'w_10', 'Ratio': 0.0}, {'Order': 3, 'Week': 'w_1', 'Ratio': 0.0}, {'Order': 3, 'Week': 'w_2', 'Ratio': 0.0}, {'Order': 3, 'Week': 'w_3', 'Ratio': 0.0}, {'Order': 3, 'Week': 'w_4', 'Ratio': 0.0}, {'Order': 3, 'Week': 'w_5', 'Ratio': 0.0}, {'Order': 3, 'Week': 'w_6', 'Ratio': 0.0}, {'Order': 3, 'Week': 'w_7', 'Ratio': 0.0}, {'Order': 3, 'Week': 'w_8', 'Ratio': 0.0}, {'Order': 3, 'Week': 'w_9', 'Ratio': 0.0}, {'Order': 3, 'Week': 'w_10', 'Ratio': 0.0}, {'Order': 4, 'Week': 'w_1', 'Ratio': 0.2}, {'Order': 4, 'Week': 'w_2', 'Ratio': 0.2}, {'Order': 4, 'Week': 'w_3', 'Ratio': 0.25}, {'Order': 4, 'Week': 'w_4', 'Ratio': 0.3333333333333333}, {'Order': 4, 'Week': 'w_5', 'Ratio': 0.5}, {'Order': 4, 'Week': 'w_6', 'Ratio': 0.5}, {'Order': 4, 'Week': 'w_7', 'Ratio': 0.3333333333333333}, {'Order': 4, 'Week': 'w_8', 'Ratio': 0.5}, {'Order': 4, 'Week': 'w_9', 'Ratio': 1.0}, {'Order': 4, 'Week': 'w_10', 'Ratio': 1.0}, {'Order': 5, 'Week': 'w_1', 'Ratio': 0.16}, {'Order': 5, 'Week': 'w_2', 'Ratio': 0.2}, {'Order': 5, 'Week': 'w_3', 'Ratio': 0.25}, {'Order': 5, 'Week': 'w_4', 'Ratio': 0.2222222222222222}, {'Order': 5, 'Week': 'w_5', 'Ratio': 0.16666666666666666}, {'Order': 5, 'Week': 'w_6', 'Ratio': 0.25}, {'Order': 5, 'Week': 'w_7', 'Ratio': 0.3333333333333333}, {'Order': 5, 'Week': 'w_8', 'Ratio': 0.5}, {'Order': 5, 'Week': 'w_9', 'Ratio': 2}, {'Order': 5, 'Week': 'w_10', 'Ratio': 2}, {'Order': 6, 'Week': 'w_1', 'Ratio': 0.04}, {'Order': 6, 'Week': 'w_2', 'Ratio': 0.06666666666666667}, {'Order': 6, 'Week': 'w_3', 'Ratio': 0.08333333333333333}, {'Order': 6, 'Week': 'w_4', 'Ratio': 0.1111111111111111}, {'Order': 6, 'Week': 'w_5', 'Ratio': 0.16666666666666666}, {'Order': 6, 'Week': 'w_6', 'Ratio': 0.0}, {'Order': 6, 'Week': 'w_7', 'Ratio': 0.0}, {'Order': 6, 'Week': 'w_8', 'Ratio': 0.0}, {'Order': 6, 'Week': 'w_9', 'Ratio': 0.0}, {'Order': 6, 'Week': 'w_10', 'Ratio': 0.0}, {'Order': 7, 'Week': 'w_1', 'Ratio': 0.08}, {'Order': 7, 'Week': 'w_2', 'Ratio': 0.06666666666666667}, {'Order': 7, 'Week': 'w_3', 'Ratio': 0.0}, {'Order': 7, 'Week': 'w_4', 'Ratio': 0.0}, {'Order': 7, 'Week': 'w_5', 'Ratio': 0.0}, {'Order': 7, 'Week': 'w_6', 'Ratio': 0.0}, {'Order': 7, 'Week': 'w_7', 'Ratio': 0.0}, {'Order': 7, 'Week': 'w_8', 'Ratio': 0.0}, {'Order': 7, 'Week': 'w_9', 'Ratio': 0.0}, {'Order': 7, 'Week': 'w_10', 'Ratio': 0.0}, {'Order': 8, 'Week': 'w_1', 'Ratio': 0.12}, {'Order': 8, 'Week': 'w_2', 'Ratio': 0.06666666666666667}, {'Order': 8, 'Week': 'w_3', 'Ratio': 0.0}, {'Order': 8, 'Week': 'w_4', 'Ratio': 0.0}, {'Order': 8, 'Week': 'w_5', 'Ratio': 0.0}, {'Order': 8, 'Week': 'w_6', 'Ratio': 0.0}, {'Order': 8, 'Week': 'w_7', 'Ratio': 0.0}, {'Order': 8, 'Week': 'w_8', 'Ratio': 0.0}, {'Order': 8, 'Week': 'w_9', 'Ratio': 0.0}, {'Order': 8, 'Week': 'w_10', 'Ratio': 0.0}, {'Order': 9, 'Week': 'w_1', 'Ratio': 0.03333333333333333}, {'Order': 9, 'Week': 'w_2', 'Ratio': 0.0}, {'Order': 9, 'Week': 'w_3', 'Ratio': 0.0}, {'Order': 9, 'Week': 'w_4', 'Ratio': 0.0}, {'Order': 9, 'Week': 'w_5', 'Ratio': 0.0}, {'Order': 9, 'Week': 'w_6', 'Ratio': 0.0}, {'Order': 9, 'Week': 'w_7', 'Ratio': 0.0}, {'Order': 9, 'Week': 'w_8', 'Ratio': 0.0}, {'Order': 9, 'Week': 'w_9', 'Ratio': 0.0}, {'Order': 9, 'Week': 'w_10', 'Ratio': 0.0}, {'Order': 10, 'Week': 'w_1', 'Ratio': 0.04}, {'Order': 10, 'Week': 'w_2', 'Ratio': 0.0}, {'Order': 10, 'Week': 'w_3', 'Ratio': 0.0}, {'Order': 10, 'Week': 'w_4', 'Ratio': 0.0}, {'Order': 10, 'Week': 'w_5', 'Ratio': 0.0}, {'Order': 10, 'Week': 'w_6', 'Ratio': 0.0}, {'Order': 10, 'Week': 'w_7', 'Ratio': 0.0}, {'Order': 10, 'Week': 'w_8', 'Ratio': 0.0}, {'Order': 10, 'Week': 'w_9', 'Ratio': 0.0}, {'Order': 10, 'Week': 'w_10', 'Ratio': 0.0}, {'Order': 11, 'Week': 'w_1', 'Ratio': 0.04}, {'Order': 11, 'Week': 'w_2', 'Ratio': 0.058823529411764705}, {'Order': 11, 'Week': 'w_3', 'Ratio': 0.07142857142857142}, {'Order': 11, 'Week': 'w_4', 'Ratio': 0.09090909090909091}, {'Order': 11, 'Week': 'w_5', 'Ratio': 0.1111111111111111}, {'Order': 11, 'Week': 'w_6', 'Ratio': 0.14285714285714285}, {'Order': 11, 'Week': 'w_7', 'Ratio': 0.2}, {'Order': 11, 'Week': 'w_8', 'Ratio': 0.25}, {'Order': 11, 'Week': 'w_9', 'Ratio': 0.3333333333333333}, {'Order': 11, 'Week': 'w_10', 'Ratio': 0.5}, {'Order': 12, 'Week': 'w_1', 'Ratio': 0.0}, {'Order': 12, 'Week': 'w_2', 'Ratio': 0.0}, {'Order': 12, 'Week': 'w_3', 'Ratio': 0.0}, {'Order': 12, 'Week': 'w_4', 'Ratio': 0.0}, {'Order': 12, 'Week': 'w_5', 'Ratio': 0.0}, {'Order': 12, 'Week': 'w_6', 'Ratio': 0.0}, {'Order': 12, 'Week': 'w_7', 'Ratio': 0.0}, {'Order': 12, 'Week': 'w_8', 'Ratio': 0.0}, {'Order': 12, 'Week': 'w_9', 'Ratio': 0.0}, {'Order': 12, 'Week': 'w_10', 'Ratio': 0.0}, {'Order': 13, 'Week': 'w_1', 'Ratio': 0.0}, {'Order': 13, 'Week': 'w_2', 'Ratio': 0.0}, {'Order': 13, 'Week': 'w_3', 'Ratio': 0.0}, {'Order': 13, 'Week': 'w_4', 'Ratio': 0.0}, {'Order': 13, 'Week': 'w_5', 'Ratio': 0.0}, {'Order': 13, 'Week': 'w_6', 'Ratio': 0.0}, {'Order': 13, 'Week': 'w_7', 'Ratio': 0.0}, {'Order': 13, 'Week': 'w_8', 'Ratio': 0.0}, {'Order': 13, 'Week': 'w_9', 'Ratio': 0.0}, {'Order': 13, 'Week': 'w_10', 'Ratio': 0.0}, {'Order': 14, 'Week': 'w_1', 'Ratio': 0.04}, {'Order': 14, 'Week': 'w_2', 'Ratio': 0.0}, {'Order': 14, 'Week': 'w_3', 'Ratio': 0.0}, {'Order': 14, 'Week': 'w_4', 'Ratio': 0.0}, {'Order': 14, 'Week': 'w_5', 'Ratio': 0.0}, {'Order': 14, 'Week': 'w_6', 'Ratio': 0.0}, {'Order': 14, 'Week': 'w_7', 'Ratio': 0.0}, {'Order': 14, 'Week': 'w_8', 'Ratio': 0.0}, {'Order': 14, 'Week': 'w_9', 'Ratio': 0.0}, {'Order': 14, 'Week': 'w_10', 'Ratio': 0.0}, {'Order': 15, 'Week': 'w_1', 'Ratio': 0.08}, {'Order': 15, 'Week': 'w_2', 'Ratio': 0.05263157894736842}, {'Order': 15, 'Week': 'w_3', 'Ratio': 0.0625}, {'Order': 15, 'Week': 'w_4', 'Ratio': 0.07692307692307693}, {'Order': 15, 'Week': 'w_5', 'Ratio': 0.1}, {'Order': 15, 'Week': 'w_6', 'Ratio': 0.0}, {'Order': 15, 'Week': 'w_7', 'Ratio': 0.0}, {'Order': 15, 'Week': 'w_8', 'Ratio': 0.0}, {'Order': 15, 'Week': 'w_9', 'Ratio': 0.0}, {'Order': 15, 'Week': 'w_10', 'Ratio': 0.0}, {'Order': 16, 'Week': 'w_1', 'Ratio': 0.23076923076923078}, {'Order': 16, 'Week': 'w_2', 'Ratio': 0.2631578947368421}, {'Order': 16, 'Week': 'w_3', 'Ratio': 0.25}, {'Order': 16, 'Week': 'w_4', 'Ratio': 0.3076923076923077}, {'Order': 16, 'Week': 'w_5', 'Ratio': 0.2727272727272727}, {'Order': 16, 'Week': 'w_6', 'Ratio': 0.2222222222222222}, {'Order': 16, 'Week': 'w_7', 'Ratio': 0.16666666666666666}, {'Order': 16, 'Week': 'w_8', 'Ratio': 0.25}, {'Order': 16, 'Week': 'w_9', 'Ratio': 0.3333333333333333}, {'Order': 16, 'Week': 'w_10', 'Ratio': 0.5}, {'Order': 17, 'Week': 'w_1', 'Ratio': 0.24}, {'Order': 17, 'Week': 'w_2', 'Ratio': 0.21052631578947367}, {'Order': 17, 'Week': 'w_3', 'Ratio': 0.1875}, {'Order': 17, 'Week': 'w_4', 'Ratio': 0.23076923076923078}, {'Order': 17, 'Week': 'w_5', 'Ratio': 0.2727272727272727}, {'Order': 17, 'Week': 'w_6', 'Ratio': 0.25}, {'Order': 17, 'Week': 'w_7', 'Ratio': 0.0}, {'Order': 17, 'Week': 'w_8', 'Ratio': 0.0}, {'Order': 17, 'Week': 'w_9', 'Ratio': 0.0}, {'Order': 17, 'Week': 'w_10', 'Ratio': 0.0}, {'Order': 18, 'Week': 'w_1', 'Ratio': 0.1111111111111111}, {'Order': 18, 'Week': 'w_2', 'Ratio': 0.16666666666666666}, {'Order': 18, 'Week': 'w_3', 'Ratio': 0.13333333333333333}, {'Order': 18, 'Week': 'w_4', 'Ratio': 0.15384615384615385}, {'Order': 18, 'Week': 'w_5', 'Ratio': 0.18181818181818182}, {'Order': 18, 'Week': 'w_6', 'Ratio': 0.125}, {'Order': 18, 'Week': 'w_7', 'Ratio': 0.16666666666666666}, {'Order': 18, 'Week': 'w_8', 'Ratio': 0.0}, {'Order': 18, 'Week': 'w_9', 'Ratio': 0.0}, {'Order': 18, 'Week': 'w_10', 'Ratio': 0.0}, {'Order': 19, 'Week': 'w_1', 'Ratio': 0.12}, {'Order': 19, 'Week': 'w_2', 'Ratio': 0.15789473684210525}, {'Order': 19, 'Week': 'w_3', 'Ratio': 0.1875}, {'Order': 19, 'Week': 'w_4', 'Ratio': 0.15384615384615385}, {'Order': 19, 'Week': 'w_5', 'Ratio': 0.09090909090909091}, {'Order': 19, 'Week': 'w_6', 'Ratio': 0.0}, {'Order': 19, 'Week': 'w_7', 'Ratio': 0.0}, {'Order': 19, 'Week': 'w_8', 'Ratio': 0.0}, {'Order': 19, 'Week': 'w_9', 'Ratio': 0.0}, {'Order': 19, 'Week': 'w_10', 'Ratio': 0.0}, {'Order': 20, 'Week': 'w_1', 'Ratio': 0.06666666666666667}, {'Order': 20, 'Week': 'w_2', 'Ratio': 0.09090909090909091}, {'Order': 20, 'Week': 'w_3', 'Ratio': 0.1111111111111111}, {'Order': 20, 'Week': 'w_4', 'Ratio': 0.06666666666666667}, {'Order': 20, 'Week': 'w_5', 'Ratio': 0.09090909090909091}, {'Order': 20, 'Week': 'w_6', 'Ratio': 0.1111111111111111}, {'Order': 20, 'Week': 'w_7', 'Ratio': 0.16666666666666666}, {'Order': 20, 'Week': 'w_8', 'Ratio': 0.0}, {'Order': 20, 'Week': 'w_9', 'Ratio': 0.0}, {'Order': 20, 'Week': 'w_10', 'Ratio': 0.0}, {'Order': 21, 'Week': 'w_1', 'Ratio': 0.15384615384615385}, {'Order': 21, 'Week': 'w_2', 'Ratio': 0.15}, {'Order': 21, 'Week': 'w_3', 'Ratio': 0.11764705882352941}, {'Order': 21, 'Week': 'w_4', 'Ratio': 0.13333333333333333}, {'Order': 21, 'Week': 'w_5', 'Ratio': 0.08333333333333333}, {'Order': 21, 'Week': 'w_6', 'Ratio': 0.0}, {'Order': 21, 'Week': 'w_7', 'Ratio': 0.0}, {'Order': 21, 'Week': 'w_8', 'Ratio': 0.0}, {'Order': 21, 'Week': 'w_9', 'Ratio': 0.0}, {'Order': 21, 'Week': 'w_10', 'Ratio': 0.0}, {'Order': 22, 'Week': 'w_1', 'Ratio': 0.14285714285714285}, {'Order': 22, 'Week': 'w_2', 'Ratio': 0.19047619047619047}, {'Order': 22, 'Week': 'w_3', 'Ratio': 0.23529411764705882}, {'Order': 22, 'Week': 'w_4', 'Ratio': 0.21428571428571427}, {'Order': 22, 'Week': 'w_5', 'Ratio': 0.18181818181818182}, {'Order': 22, 'Week': 'w_6', 'Ratio': 0.1111111111111111}, {'Order': 22, 'Week': 'w_7', 'Ratio': 0.16666666666666666}, {'Order': 22, 'Week': 'w_8', 'Ratio': 0.25}, {'Order': 22, 'Week': 'w_9', 'Ratio': 0.3333333333333333}, {'Order': 22, 'Week': 'w_10', 'Ratio': 0.0}, {'Order': 23, 'Week': 'w_1', 'Ratio': 0.2692307692307692}, {'Order': 23, 'Week': 'w_2', 'Ratio': 0.15}, {'Order': 23, 'Week': 'w_3', 'Ratio': 0.17647058823529413}, {'Order': 23, 'Week': 'w_4', 'Ratio': 0.07142857142857142}, {'Order': 23, 'Week': 'w_5', 'Ratio': 0.09090909090909091}, {'Order': 23, 'Week': 'w_6', 'Ratio': 0.0}, {'Order': 23, 'Week': 'w_7', 'Ratio': 0.0}, {'Order': 23, 'Week': 'w_8', 'Ratio': 0.0}, {'Order': 23, 'Week': 'w_9', 'Ratio': 0.0}, {'Order': 23, 'Week': 'w_10', 'Ratio': 0.0}, {'Order': 24, 'Week': 'w_1', 'Ratio': 0.36666666666666664}, {'Order': 24, 'Week': 'w_2', 'Ratio': 0.3181818181818182}, {'Order': 24, 'Week': 'w_3', 'Ratio': 0.3888888888888889}, {'Order': 24, 'Week': 'w_4', 'Ratio': 0.3333333333333333}, {'Order': 24, 'Week': 'w_5', 'Ratio': 0.38461538461538464}, {'Order': 24, 'Week': 'w_6', 'Ratio': 0.3333333333333333}, {'Order': 24, 'Week': 'w_7', 'Ratio': 0.16666666666666666}, {'Order': 24, 'Week': 'w_8', 'Ratio': 0.25}, {'Order': 24, 'Week': 'w_9', 'Ratio': 0.3333333333333333}, {'Order': 24, 'Week': 'w_10', 'Ratio': 0.0}, {'Order': 25, 'Week': 'w_1', 'Ratio': 0.5161290322580645}, {'Order': 25, 'Week': 'w_2', 'Ratio': 0.43478260869565216}, {'Order': 25, 'Week': 'w_3', 'Ratio': 0.47368421052631576}, {'Order': 25, 'Week': 'w_4', 'Ratio': 0.4666666666666667}, {'Order': 25, 'Week': 'w_5', 'Ratio': 0.5}, {'Order': 25, 'Week': 'w_6', 'Ratio': 0.4444444444444444}, {'Order': 25, 'Week': 'w_7', 'Ratio': 0.3333333333333333}, {'Order': 25, 'Week': 'w_8', 'Ratio': 0.5}, {'Order': 25, 'Week': 'w_9', 'Ratio': 0.6666666666666666}, {'Order': 25, 'Week': 'w_10', 'Ratio': 0.5}]\n"
     ]
    }
   ],
   "source": [
    "print(F)"
   ]
  },
  {
   "cell_type": "code",
   "execution_count": 102,
   "metadata": {},
   "outputs": [],
   "source": [
    "str = [{'Order': 1, 'Week': 'w_1', 'Ratio': 0.08}, {'Order': 1, 'Week': 'w_2', 'Ratio': 0.0}, {'Order': 1, 'Week': 'w_3', 'Ratio': 0.0}, {'Order': 1, 'Week': 'w_4', 'Ratio': 0.0}, {'Order': 1, 'Week': 'w_5', 'Ratio': 0.0}, {'Order': 1, 'Week': 'w_6', 'Ratio': 0.0}, {'Order': 1, 'Week': 'w_7', 'Ratio': 0.0}, {'Order': 1, 'Week': 'w_8', 'Ratio': 0.0}, {'Order': 1, 'Week': 'w_9', 'Ratio': 0.0}, {'Order': 1, 'Week': 'w_10', 'Ratio': 0.0}, {'Order': 2, 'Week': 'w_1', 'Ratio': 0.2}, {'Order': 2, 'Week': 'w_2', 'Ratio': 0.08333333333333333}, {'Order': 2, 'Week': 'w_3', 'Ratio': 0.125}, {'Order': 2, 'Week': 'w_4', 'Ratio': 0.16666666666666666}, {'Order': 2, 'Week': 'w_5', 'Ratio': 0.25}, {'Order': 2, 'Week': 'w_6', 'Ratio': 0.3333333333333333}, {'Order': 2, 'Week': 'w_7', 'Ratio': 0.5}, {'Order': 2, 'Week': 'w_8', 'Ratio': 0.0}, {'Order': 2, 'Week': 'w_9', 'Ratio': 0.0}, {'Order': 2, 'Week': 'w_10', 'Ratio': 0.0}, {'Order': 3, 'Week': 'w_1', 'Ratio': 0.0}, {'Order': 3, 'Week': 'w_2', 'Ratio': 0.0}, {'Order': 3, 'Week': 'w_3', 'Ratio': 0.0}, {'Order': 3, 'Week': 'w_4', 'Ratio': 0.0}, {'Order': 3, 'Week': 'w_5', 'Ratio': 0.0}, {'Order': 3, 'Week': 'w_6', 'Ratio': 0.0}, {'Order': 3, 'Week': 'w_7', 'Ratio': 0.0}, {'Order': 3, 'Week': 'w_8', 'Ratio': 0.0}, {'Order': 3, 'Week': 'w_9', 'Ratio': 0.0}, {'Order': 3, 'Week': 'w_10', 'Ratio': 0.0}, {'Order': 4, 'Week': 'w_1', 'Ratio': 0.2}, {'Order': 4, 'Week': 'w_2', 'Ratio': 0.2}, {'Order': 4, 'Week': 'w_3', 'Ratio': 0.25}, {'Order': 4, 'Week': 'w_4', 'Ratio': 0.3333333333333333}, {'Order': 4, 'Week': 'w_5', 'Ratio': 0.5}, {'Order': 4, 'Week': 'w_6', 'Ratio': 0.5}, {'Order': 4, 'Week': 'w_7', 'Ratio': 0.3333333333333333}, {'Order': 4, 'Week': 'w_8', 'Ratio': 0.5}, {'Order': 4, 'Week': 'w_9', 'Ratio': 1.0}, {'Order': 4, 'Week': 'w_10', 'Ratio': 1.0}, {'Order': 5, 'Week': 'w_1', 'Ratio': 0.16}, {'Order': 5, 'Week': 'w_2', 'Ratio': 0.2}, {'Order': 5, 'Week': 'w_3', 'Ratio': 0.25}, {'Order': 5, 'Week': 'w_4', 'Ratio': 0.2222222222222222}, {'Order': 5, 'Week': 'w_5', 'Ratio': 0.16666666666666666}, {'Order': 5, 'Week': 'w_6', 'Ratio': 0.25}, {'Order': 5, 'Week': 'w_7', 'Ratio': 0.3333333333333333}, {'Order': 5, 'Week': 'w_8', 'Ratio': 0.5}, {'Order': 5, 'Week': 'w_9', 'Ratio': 2}, {'Order': 5, 'Week': 'w_10', 'Ratio': 2}, {'Order': 6, 'Week': 'w_1', 'Ratio': 0.04}, {'Order': 6, 'Week': 'w_2', 'Ratio': 0.06666666666666667}, {'Order': 6, 'Week': 'w_3', 'Ratio': 0.08333333333333333}, {'Order': 6, 'Week': 'w_4', 'Ratio': 0.1111111111111111}, {'Order': 6, 'Week': 'w_5', 'Ratio': 0.16666666666666666}, {'Order': 6, 'Week': 'w_6', 'Ratio': 0.0}, {'Order': 6, 'Week': 'w_7', 'Ratio': 0.0}, {'Order': 6, 'Week': 'w_8', 'Ratio': 0.0}, {'Order': 6, 'Week': 'w_9', 'Ratio': 0.0}, {'Order': 6, 'Week': 'w_10', 'Ratio': 0.0}, {'Order': 7, 'Week': 'w_1', 'Ratio': 0.08}, {'Order': 7, 'Week': 'w_2', 'Ratio': 0.06666666666666667}, {'Order': 7, 'Week': 'w_3', 'Ratio': 0.0}, {'Order': 7, 'Week': 'w_4', 'Ratio': 0.0}, {'Order': 7, 'Week': 'w_5', 'Ratio': 0.0}, {'Order': 7, 'Week': 'w_6', 'Ratio': 0.0}, {'Order': 7, 'Week': 'w_7', 'Ratio': 0.0}, {'Order': 7, 'Week': 'w_8', 'Ratio': 0.0}, {'Order': 7, 'Week': 'w_9', 'Ratio': 0.0}, {'Order': 7, 'Week': 'w_10', 'Ratio': 0.0}, {'Order': 8, 'Week': 'w_1', 'Ratio': 0.12}, {'Order': 8, 'Week': 'w_2', 'Ratio': 0.06666666666666667}, {'Order': 8, 'Week': 'w_3', 'Ratio': 0.0}, {'Order': 8, 'Week': 'w_4', 'Ratio': 0.0}, {'Order': 8, 'Week': 'w_5', 'Ratio': 0.0}, {'Order': 8, 'Week': 'w_6', 'Ratio': 0.0}, {'Order': 8, 'Week': 'w_7', 'Ratio': 0.0}, {'Order': 8, 'Week': 'w_8', 'Ratio': 0.0}, {'Order': 8, 'Week': 'w_9', 'Ratio': 0.0}, {'Order': 8, 'Week': 'w_10', 'Ratio': 0.0}, {'Order': 9, 'Week': 'w_1', 'Ratio': 0.03333333333333333}, {'Order': 9, 'Week': 'w_2', 'Ratio': 0.0}, {'Order': 9, 'Week': 'w_3', 'Ratio': 0.0}, {'Order': 9, 'Week': 'w_4', 'Ratio': 0.0}, {'Order': 9, 'Week': 'w_5', 'Ratio': 0.0}, {'Order': 9, 'Week': 'w_6', 'Ratio': 0.0}, {'Order': 9, 'Week': 'w_7', 'Ratio': 0.0}, {'Order': 9, 'Week': 'w_8', 'Ratio': 0.0}, {'Order': 9, 'Week': 'w_9', 'Ratio': 0.0}, {'Order': 9, 'Week': 'w_10', 'Ratio': 0.0}, {'Order': 10, 'Week': 'w_1', 'Ratio': 0.04}, {'Order': 10, 'Week': 'w_2', 'Ratio': 0.0}, {'Order': 10, 'Week': 'w_3', 'Ratio': 0.0}, {'Order': 10, 'Week': 'w_4', 'Ratio': 0.0}, {'Order': 10, 'Week': 'w_5', 'Ratio': 0.0}, {'Order': 10, 'Week': 'w_6', 'Ratio': 0.0}, {'Order': 10, 'Week': 'w_7', 'Ratio': 0.0}, {'Order': 10, 'Week': 'w_8', 'Ratio': 0.0}, {'Order': 10, 'Week': 'w_9', 'Ratio': 0.0}, {'Order': 10, 'Week': 'w_10', 'Ratio': 0.0}, {'Order': 11, 'Week': 'w_1', 'Ratio': 0.04}, {'Order': 11, 'Week': 'w_2', 'Ratio': 0.058823529411764705}, {'Order': 11, 'Week': 'w_3', 'Ratio': 0.07142857142857142}, {'Order': 11, 'Week': 'w_4', 'Ratio': 0.09090909090909091}, {'Order': 11, 'Week': 'w_5', 'Ratio': 0.1111111111111111}, {'Order': 11, 'Week': 'w_6', 'Ratio': 0.14285714285714285}, {'Order': 11, 'Week': 'w_7', 'Ratio': 0.2}, {'Order': 11, 'Week': 'w_8', 'Ratio': 0.25}, {'Order': 11, 'Week': 'w_9', 'Ratio': 0.3333333333333333}, {'Order': 11, 'Week': 'w_10', 'Ratio': 0.5}, {'Order': 12, 'Week': 'w_1', 'Ratio': 0.0}, {'Order': 12, 'Week': 'w_2', 'Ratio': 0.0}, {'Order': 12, 'Week': 'w_3', 'Ratio': 0.0}, {'Order': 12, 'Week': 'w_4', 'Ratio': 0.0}, {'Order': 12, 'Week': 'w_5', 'Ratio': 0.0}, {'Order': 12, 'Week': 'w_6', 'Ratio': 0.0}, {'Order': 12, 'Week': 'w_7', 'Ratio': 0.0}, {'Order': 12, 'Week': 'w_8', 'Ratio': 0.0}, {'Order': 12, 'Week': 'w_9', 'Ratio': 0.0}, {'Order': 12, 'Week': 'w_10', 'Ratio': 0.0}, {'Order': 13, 'Week': 'w_1', 'Ratio': 0.0}, {'Order': 13, 'Week': 'w_2', 'Ratio': 0.0}, {'Order': 13, 'Week': 'w_3', 'Ratio': 0.0}, {'Order': 13, 'Week': 'w_4', 'Ratio': 0.0}, {'Order': 13, 'Week': 'w_5', 'Ratio': 0.0}, {'Order': 13, 'Week': 'w_6', 'Ratio': 0.0}, {'Order': 13, 'Week': 'w_7', 'Ratio': 0.0}, {'Order': 13, 'Week': 'w_8', 'Ratio': 0.0}, {'Order': 13, 'Week': 'w_9', 'Ratio': 0.0}, {'Order': 13, 'Week': 'w_10', 'Ratio': 0.0}, {'Order': 14, 'Week': 'w_1', 'Ratio': 0.04}, {'Order': 14, 'Week': 'w_2', 'Ratio': 0.0}, {'Order': 14, 'Week': 'w_3', 'Ratio': 0.0}, {'Order': 14, 'Week': 'w_4', 'Ratio': 0.0}, {'Order': 14, 'Week': 'w_5', 'Ratio': 0.0}, {'Order': 14, 'Week': 'w_6', 'Ratio': 0.0}, {'Order': 14, 'Week': 'w_7', 'Ratio': 0.0}, {'Order': 14, 'Week': 'w_8', 'Ratio': 0.0}, {'Order': 14, 'Week': 'w_9', 'Ratio': 0.0}, {'Order': 14, 'Week': 'w_10', 'Ratio': 0.0}, {'Order': 15, 'Week': 'w_1', 'Ratio': 0.08}, {'Order': 15, 'Week': 'w_2', 'Ratio': 0.05263157894736842}, {'Order': 15, 'Week': 'w_3', 'Ratio': 0.0625}, {'Order': 15, 'Week': 'w_4', 'Ratio': 0.07692307692307693}, {'Order': 15, 'Week': 'w_5', 'Ratio': 0.1}, {'Order': 15, 'Week': 'w_6', 'Ratio': 0.0}, {'Order': 15, 'Week': 'w_7', 'Ratio': 0.0}, {'Order': 15, 'Week': 'w_8', 'Ratio': 0.0}, {'Order': 15, 'Week': 'w_9', 'Ratio': 0.0}, {'Order': 15, 'Week': 'w_10', 'Ratio': 0.0}, {'Order': 16, 'Week': 'w_1', 'Ratio': 0.23076923076923078}, {'Order': 16, 'Week': 'w_2', 'Ratio': 0.2631578947368421}, {'Order': 16, 'Week': 'w_3', 'Ratio': 0.25}, {'Order': 16, 'Week': 'w_4', 'Ratio': 0.3076923076923077}, {'Order': 16, 'Week': 'w_5', 'Ratio': 0.2727272727272727}, {'Order': 16, 'Week': 'w_6', 'Ratio': 0.2222222222222222}, {'Order': 16, 'Week': 'w_7', 'Ratio': 0.16666666666666666}, {'Order': 16, 'Week': 'w_8', 'Ratio': 0.25}, {'Order': 16, 'Week': 'w_9', 'Ratio': 0.3333333333333333}, {'Order': 16, 'Week': 'w_10', 'Ratio': 0.5}, {'Order': 17, 'Week': 'w_1', 'Ratio': 0.24}, {'Order': 17, 'Week': 'w_2', 'Ratio': 0.21052631578947367}, {'Order': 17, 'Week': 'w_3', 'Ratio': 0.1875}, {'Order': 17, 'Week': 'w_4', 'Ratio': 0.23076923076923078}, {'Order': 17, 'Week': 'w_5', 'Ratio': 0.2727272727272727}, {'Order': 17, 'Week': 'w_6', 'Ratio': 0.25}, {'Order': 17, 'Week': 'w_7', 'Ratio': 0.0}, {'Order': 17, 'Week': 'w_8', 'Ratio': 0.0}, {'Order': 17, 'Week': 'w_9', 'Ratio': 0.0}, {'Order': 17, 'Week': 'w_10', 'Ratio': 0.0}, {'Order': 18, 'Week': 'w_1', 'Ratio': 0.1111111111111111}, {'Order': 18, 'Week': 'w_2', 'Ratio': 0.16666666666666666}, {'Order': 18, 'Week': 'w_3', 'Ratio': 0.13333333333333333}, {'Order': 18, 'Week': 'w_4', 'Ratio': 0.15384615384615385}, {'Order': 18, 'Week': 'w_5', 'Ratio': 0.18181818181818182}, {'Order': 18, 'Week': 'w_6', 'Ratio': 0.125}, {'Order': 18, 'Week': 'w_7', 'Ratio': 0.16666666666666666}, {'Order': 18, 'Week': 'w_8', 'Ratio': 0.0}, {'Order': 18, 'Week': 'w_9', 'Ratio': 0.0}, {'Order': 18, 'Week': 'w_10', 'Ratio': 0.0}, {'Order': 19, 'Week': 'w_1', 'Ratio': 0.12}, {'Order': 19, 'Week': 'w_2', 'Ratio': 0.15789473684210525}, {'Order': 19, 'Week': 'w_3', 'Ratio': 0.1875}, {'Order': 19, 'Week': 'w_4', 'Ratio': 0.15384615384615385}, {'Order': 19, 'Week': 'w_5', 'Ratio': 0.09090909090909091}, {'Order': 19, 'Week': 'w_6', 'Ratio': 0.0}, {'Order': 19, 'Week': 'w_7', 'Ratio': 0.0}, {'Order': 19, 'Week': 'w_8', 'Ratio': 0.0}, {'Order': 19, 'Week': 'w_9', 'Ratio': 0.0}, {'Order': 19, 'Week': 'w_10', 'Ratio': 0.0}, {'Order': 20, 'Week': 'w_1', 'Ratio': 0.06666666666666667}, {'Order': 20, 'Week': 'w_2', 'Ratio': 0.09090909090909091}, {'Order': 20, 'Week': 'w_3', 'Ratio': 0.1111111111111111}, {'Order': 20, 'Week': 'w_4', 'Ratio': 0.06666666666666667}, {'Order': 20, 'Week': 'w_5', 'Ratio': 0.09090909090909091}, {'Order': 20, 'Week': 'w_6', 'Ratio': 0.1111111111111111}, {'Order': 20, 'Week': 'w_7', 'Ratio': 0.16666666666666666}, {'Order': 20, 'Week': 'w_8', 'Ratio': 0.0}, {'Order': 20, 'Week': 'w_9', 'Ratio': 0.0}, {'Order': 20, 'Week': 'w_10', 'Ratio': 0.0}, {'Order': 21, 'Week': 'w_1', 'Ratio': 0.15384615384615385}, {'Order': 21, 'Week': 'w_2', 'Ratio': 0.15}, {'Order': 21, 'Week': 'w_3', 'Ratio': 0.11764705882352941}, {'Order': 21, 'Week': 'w_4', 'Ratio': 0.13333333333333333}, {'Order': 21, 'Week': 'w_5', 'Ratio': 0.08333333333333333}, {'Order': 21, 'Week': 'w_6', 'Ratio': 0.0}, {'Order': 21, 'Week': 'w_7', 'Ratio': 0.0}, {'Order': 21, 'Week': 'w_8', 'Ratio': 0.0}, {'Order': 21, 'Week': 'w_9', 'Ratio': 0.0}, {'Order': 21, 'Week': 'w_10', 'Ratio': 0.0}, {'Order': 22, 'Week': 'w_1', 'Ratio': 0.14285714285714285}, {'Order': 22, 'Week': 'w_2', 'Ratio': 0.19047619047619047}, {'Order': 22, 'Week': 'w_3', 'Ratio': 0.23529411764705882}, {'Order': 22, 'Week': 'w_4', 'Ratio': 0.21428571428571427}, {'Order': 22, 'Week': 'w_5', 'Ratio': 0.18181818181818182}, {'Order': 22, 'Week': 'w_6', 'Ratio': 0.1111111111111111}, {'Order': 22, 'Week': 'w_7', 'Ratio': 0.16666666666666666}, {'Order': 22, 'Week': 'w_8', 'Ratio': 0.25}, {'Order': 22, 'Week': 'w_9', 'Ratio': 0.3333333333333333}, {'Order': 22, 'Week': 'w_10', 'Ratio': 0.0}, {'Order': 23, 'Week': 'w_1', 'Ratio': 0.2692307692307692}, {'Order': 23, 'Week': 'w_2', 'Ratio': 0.15}, {'Order': 23, 'Week': 'w_3', 'Ratio': 0.17647058823529413}, {'Order': 23, 'Week': 'w_4', 'Ratio': 0.07142857142857142}, {'Order': 23, 'Week': 'w_5', 'Ratio': 0.09090909090909091}, {'Order': 23, 'Week': 'w_6', 'Ratio': 0.0}, {'Order': 23, 'Week': 'w_7', 'Ratio': 0.0}, {'Order': 23, 'Week': 'w_8', 'Ratio': 0.0}, {'Order': 23, 'Week': 'w_9', 'Ratio': 0.0}, {'Order': 23, 'Week': 'w_10', 'Ratio': 0.0}, {'Order': 24, 'Week': 'w_1', 'Ratio': 0.36666666666666664}, {'Order': 24, 'Week': 'w_2', 'Ratio': 0.3181818181818182}, {'Order': 24, 'Week': 'w_3', 'Ratio': 0.3888888888888889}, {'Order': 24, 'Week': 'w_4', 'Ratio': 0.3333333333333333}, {'Order': 24, 'Week': 'w_5', 'Ratio': 0.38461538461538464}, {'Order': 24, 'Week': 'w_6', 'Ratio': 0.3333333333333333}, {'Order': 24, 'Week': 'w_7', 'Ratio': 0.16666666666666666}, {'Order': 24, 'Week': 'w_8', 'Ratio': 0.25}, {'Order': 24, 'Week': 'w_9', 'Ratio': 0.3333333333333333}, {'Order': 24, 'Week': 'w_10', 'Ratio': 0.0}, {'Order': 25, 'Week': 'w_1', 'Ratio': 0.5161290322580645}, {'Order': 25, 'Week': 'w_2', 'Ratio': 0.43478260869565216}, {'Order': 25, 'Week': 'w_3', 'Ratio': 0.47368421052631576}, {'Order': 25, 'Week': 'w_4', 'Ratio': 0.4666666666666667}, {'Order': 25, 'Week': 'w_5', 'Ratio': 0.5}, {'Order': 25, 'Week': 'w_6', 'Ratio': 0.4444444444444444}, {'Order': 25, 'Week': 'w_7', 'Ratio': 0.3333333333333333}, {'Order': 25, 'Week': 'w_8', 'Ratio': 0.5}, {'Order': 25, 'Week': 'w_9', 'Ratio': 0.6666666666666666}, {'Order': 25, 'Week': 'w_10', 'Ratio': 0.5}]"
   ]
  },
  {
   "cell_type": "code",
   "execution_count": 107,
   "metadata": {},
   "outputs": [
    {
     "data": {
      "text/plain": [
       "'[{\"Order\": 1, \"Week\": \"w_1\", \"Ratio\": 0.08}, {\"Order\": 1, \"Week\": \"w_2\", \"Ratio\": 0.0}, {\"Order\": 1, \"Week\": \"w_3\", \"Ratio\": 0.0}, {\"Order\": 1, \"Week\": \"w_4\", \"Ratio\": 0.0}, {\"Order\": 1, \"Week\": \"w_5\", \"Ratio\": 0.0}, {\"Order\": 1, \"Week\": \"w_6\", \"Ratio\": 0.0}, {\"Order\": 1, \"Week\": \"w_7\", \"Ratio\": 0.0}, {\"Order\": 1, \"Week\": \"w_8\", \"Ratio\": 0.0}, {\"Order\": 1, \"Week\": \"w_9\", \"Ratio\": 0.0}, {\"Order\": 1, \"Week\": \"w_10\", \"Ratio\": 0.0}, {\"Order\": 2, \"Week\": \"w_1\", \"Ratio\": 0.2}, {\"Order\": 2, \"Week\": \"w_2\", \"Ratio\": 0.08333333333333333}, {\"Order\": 2, \"Week\": \"w_3\", \"Ratio\": 0.125}, {\"Order\": 2, \"Week\": \"w_4\", \"Ratio\": 0.16666666666666666}, {\"Order\": 2, \"Week\": \"w_5\", \"Ratio\": 0.25}, {\"Order\": 2, \"Week\": \"w_6\", \"Ratio\": 0.3333333333333333}, {\"Order\": 2, \"Week\": \"w_7\", \"Ratio\": 0.5}, {\"Order\": 2, \"Week\": \"w_8\", \"Ratio\": 0.0}, {\"Order\": 2, \"Week\": \"w_9\", \"Ratio\": 0.0}, {\"Order\": 2, \"Week\": \"w_10\", \"Ratio\": 0.0}, {\"Order\": 3, \"Week\": \"w_1\", \"Ratio\": 0.0}, {\"Order\": 3, \"Week\": \"w_2\", \"Ratio\": 0.0}, {\"Order\": 3, \"Week\": \"w_3\", \"Ratio\": 0.0}, {\"Order\": 3, \"Week\": \"w_4\", \"Ratio\": 0.0}, {\"Order\": 3, \"Week\": \"w_5\", \"Ratio\": 0.0}, {\"Order\": 3, \"Week\": \"w_6\", \"Ratio\": 0.0}, {\"Order\": 3, \"Week\": \"w_7\", \"Ratio\": 0.0}, {\"Order\": 3, \"Week\": \"w_8\", \"Ratio\": 0.0}, {\"Order\": 3, \"Week\": \"w_9\", \"Ratio\": 0.0}, {\"Order\": 3, \"Week\": \"w_10\", \"Ratio\": 0.0}, {\"Order\": 4, \"Week\": \"w_1\", \"Ratio\": 0.2}, {\"Order\": 4, \"Week\": \"w_2\", \"Ratio\": 0.2}, {\"Order\": 4, \"Week\": \"w_3\", \"Ratio\": 0.25}, {\"Order\": 4, \"Week\": \"w_4\", \"Ratio\": 0.3333333333333333}, {\"Order\": 4, \"Week\": \"w_5\", \"Ratio\": 0.5}, {\"Order\": 4, \"Week\": \"w_6\", \"Ratio\": 0.5}, {\"Order\": 4, \"Week\": \"w_7\", \"Ratio\": 0.3333333333333333}, {\"Order\": 4, \"Week\": \"w_8\", \"Ratio\": 0.5}, {\"Order\": 4, \"Week\": \"w_9\", \"Ratio\": 1.0}, {\"Order\": 4, \"Week\": \"w_10\", \"Ratio\": 1.0}, {\"Order\": 5, \"Week\": \"w_1\", \"Ratio\": 0.16}, {\"Order\": 5, \"Week\": \"w_2\", \"Ratio\": 0.2}, {\"Order\": 5, \"Week\": \"w_3\", \"Ratio\": 0.25}, {\"Order\": 5, \"Week\": \"w_4\", \"Ratio\": 0.2222222222222222}, {\"Order\": 5, \"Week\": \"w_5\", \"Ratio\": 0.16666666666666666}, {\"Order\": 5, \"Week\": \"w_6\", \"Ratio\": 0.25}, {\"Order\": 5, \"Week\": \"w_7\", \"Ratio\": 0.3333333333333333}, {\"Order\": 5, \"Week\": \"w_8\", \"Ratio\": 0.5}, {\"Order\": 5, \"Week\": \"w_9\", \"Ratio\": 2}, {\"Order\": 5, \"Week\": \"w_10\", \"Ratio\": 2}, {\"Order\": 6, \"Week\": \"w_1\", \"Ratio\": 0.04}, {\"Order\": 6, \"Week\": \"w_2\", \"Ratio\": 0.06666666666666667}, {\"Order\": 6, \"Week\": \"w_3\", \"Ratio\": 0.08333333333333333}, {\"Order\": 6, \"Week\": \"w_4\", \"Ratio\": 0.1111111111111111}, {\"Order\": 6, \"Week\": \"w_5\", \"Ratio\": 0.16666666666666666}, {\"Order\": 6, \"Week\": \"w_6\", \"Ratio\": 0.0}, {\"Order\": 6, \"Week\": \"w_7\", \"Ratio\": 0.0}, {\"Order\": 6, \"Week\": \"w_8\", \"Ratio\": 0.0}, {\"Order\": 6, \"Week\": \"w_9\", \"Ratio\": 0.0}, {\"Order\": 6, \"Week\": \"w_10\", \"Ratio\": 0.0}, {\"Order\": 7, \"Week\": \"w_1\", \"Ratio\": 0.08}, {\"Order\": 7, \"Week\": \"w_2\", \"Ratio\": 0.06666666666666667}, {\"Order\": 7, \"Week\": \"w_3\", \"Ratio\": 0.0}, {\"Order\": 7, \"Week\": \"w_4\", \"Ratio\": 0.0}, {\"Order\": 7, \"Week\": \"w_5\", \"Ratio\": 0.0}, {\"Order\": 7, \"Week\": \"w_6\", \"Ratio\": 0.0}, {\"Order\": 7, \"Week\": \"w_7\", \"Ratio\": 0.0}, {\"Order\": 7, \"Week\": \"w_8\", \"Ratio\": 0.0}, {\"Order\": 7, \"Week\": \"w_9\", \"Ratio\": 0.0}, {\"Order\": 7, \"Week\": \"w_10\", \"Ratio\": 0.0}, {\"Order\": 8, \"Week\": \"w_1\", \"Ratio\": 0.12}, {\"Order\": 8, \"Week\": \"w_2\", \"Ratio\": 0.06666666666666667}, {\"Order\": 8, \"Week\": \"w_3\", \"Ratio\": 0.0}, {\"Order\": 8, \"Week\": \"w_4\", \"Ratio\": 0.0}, {\"Order\": 8, \"Week\": \"w_5\", \"Ratio\": 0.0}, {\"Order\": 8, \"Week\": \"w_6\", \"Ratio\": 0.0}, {\"Order\": 8, \"Week\": \"w_7\", \"Ratio\": 0.0}, {\"Order\": 8, \"Week\": \"w_8\", \"Ratio\": 0.0}, {\"Order\": 8, \"Week\": \"w_9\", \"Ratio\": 0.0}, {\"Order\": 8, \"Week\": \"w_10\", \"Ratio\": 0.0}, {\"Order\": 9, \"Week\": \"w_1\", \"Ratio\": 0.03333333333333333}, {\"Order\": 9, \"Week\": \"w_2\", \"Ratio\": 0.0}, {\"Order\": 9, \"Week\": \"w_3\", \"Ratio\": 0.0}, {\"Order\": 9, \"Week\": \"w_4\", \"Ratio\": 0.0}, {\"Order\": 9, \"Week\": \"w_5\", \"Ratio\": 0.0}, {\"Order\": 9, \"Week\": \"w_6\", \"Ratio\": 0.0}, {\"Order\": 9, \"Week\": \"w_7\", \"Ratio\": 0.0}, {\"Order\": 9, \"Week\": \"w_8\", \"Ratio\": 0.0}, {\"Order\": 9, \"Week\": \"w_9\", \"Ratio\": 0.0}, {\"Order\": 9, \"Week\": \"w_10\", \"Ratio\": 0.0}, {\"Order\": 10, \"Week\": \"w_1\", \"Ratio\": 0.04}, {\"Order\": 10, \"Week\": \"w_2\", \"Ratio\": 0.0}, {\"Order\": 10, \"Week\": \"w_3\", \"Ratio\": 0.0}, {\"Order\": 10, \"Week\": \"w_4\", \"Ratio\": 0.0}, {\"Order\": 10, \"Week\": \"w_5\", \"Ratio\": 0.0}, {\"Order\": 10, \"Week\": \"w_6\", \"Ratio\": 0.0}, {\"Order\": 10, \"Week\": \"w_7\", \"Ratio\": 0.0}, {\"Order\": 10, \"Week\": \"w_8\", \"Ratio\": 0.0}, {\"Order\": 10, \"Week\": \"w_9\", \"Ratio\": 0.0}, {\"Order\": 10, \"Week\": \"w_10\", \"Ratio\": 0.0}, {\"Order\": 11, \"Week\": \"w_1\", \"Ratio\": 0.04}, {\"Order\": 11, \"Week\": \"w_2\", \"Ratio\": 0.058823529411764705}, {\"Order\": 11, \"Week\": \"w_3\", \"Ratio\": 0.07142857142857142}, {\"Order\": 11, \"Week\": \"w_4\", \"Ratio\": 0.09090909090909091}, {\"Order\": 11, \"Week\": \"w_5\", \"Ratio\": 0.1111111111111111}, {\"Order\": 11, \"Week\": \"w_6\", \"Ratio\": 0.14285714285714285}, {\"Order\": 11, \"Week\": \"w_7\", \"Ratio\": 0.2}, {\"Order\": 11, \"Week\": \"w_8\", \"Ratio\": 0.25}, {\"Order\": 11, \"Week\": \"w_9\", \"Ratio\": 0.3333333333333333}, {\"Order\": 11, \"Week\": \"w_10\", \"Ratio\": 0.5}, {\"Order\": 12, \"Week\": \"w_1\", \"Ratio\": 0.0}, {\"Order\": 12, \"Week\": \"w_2\", \"Ratio\": 0.0}, {\"Order\": 12, \"Week\": \"w_3\", \"Ratio\": 0.0}, {\"Order\": 12, \"Week\": \"w_4\", \"Ratio\": 0.0}, {\"Order\": 12, \"Week\": \"w_5\", \"Ratio\": 0.0}, {\"Order\": 12, \"Week\": \"w_6\", \"Ratio\": 0.0}, {\"Order\": 12, \"Week\": \"w_7\", \"Ratio\": 0.0}, {\"Order\": 12, \"Week\": \"w_8\", \"Ratio\": 0.0}, {\"Order\": 12, \"Week\": \"w_9\", \"Ratio\": 0.0}, {\"Order\": 12, \"Week\": \"w_10\", \"Ratio\": 0.0}, {\"Order\": 13, \"Week\": \"w_1\", \"Ratio\": 0.0}, {\"Order\": 13, \"Week\": \"w_2\", \"Ratio\": 0.0}, {\"Order\": 13, \"Week\": \"w_3\", \"Ratio\": 0.0}, {\"Order\": 13, \"Week\": \"w_4\", \"Ratio\": 0.0}, {\"Order\": 13, \"Week\": \"w_5\", \"Ratio\": 0.0}, {\"Order\": 13, \"Week\": \"w_6\", \"Ratio\": 0.0}, {\"Order\": 13, \"Week\": \"w_7\", \"Ratio\": 0.0}, {\"Order\": 13, \"Week\": \"w_8\", \"Ratio\": 0.0}, {\"Order\": 13, \"Week\": \"w_9\", \"Ratio\": 0.0}, {\"Order\": 13, \"Week\": \"w_10\", \"Ratio\": 0.0}, {\"Order\": 14, \"Week\": \"w_1\", \"Ratio\": 0.04}, {\"Order\": 14, \"Week\": \"w_2\", \"Ratio\": 0.0}, {\"Order\": 14, \"Week\": \"w_3\", \"Ratio\": 0.0}, {\"Order\": 14, \"Week\": \"w_4\", \"Ratio\": 0.0}, {\"Order\": 14, \"Week\": \"w_5\", \"Ratio\": 0.0}, {\"Order\": 14, \"Week\": \"w_6\", \"Ratio\": 0.0}, {\"Order\": 14, \"Week\": \"w_7\", \"Ratio\": 0.0}, {\"Order\": 14, \"Week\": \"w_8\", \"Ratio\": 0.0}, {\"Order\": 14, \"Week\": \"w_9\", \"Ratio\": 0.0}, {\"Order\": 14, \"Week\": \"w_10\", \"Ratio\": 0.0}, {\"Order\": 15, \"Week\": \"w_1\", \"Ratio\": 0.08}, {\"Order\": 15, \"Week\": \"w_2\", \"Ratio\": 0.05263157894736842}, {\"Order\": 15, \"Week\": \"w_3\", \"Ratio\": 0.0625}, {\"Order\": 15, \"Week\": \"w_4\", \"Ratio\": 0.07692307692307693}, {\"Order\": 15, \"Week\": \"w_5\", \"Ratio\": 0.1}, {\"Order\": 15, \"Week\": \"w_6\", \"Ratio\": 0.0}, {\"Order\": 15, \"Week\": \"w_7\", \"Ratio\": 0.0}, {\"Order\": 15, \"Week\": \"w_8\", \"Ratio\": 0.0}, {\"Order\": 15, \"Week\": \"w_9\", \"Ratio\": 0.0}, {\"Order\": 15, \"Week\": \"w_10\", \"Ratio\": 0.0}, {\"Order\": 16, \"Week\": \"w_1\", \"Ratio\": 0.23076923076923078}, {\"Order\": 16, \"Week\": \"w_2\", \"Ratio\": 0.2631578947368421}, {\"Order\": 16, \"Week\": \"w_3\", \"Ratio\": 0.25}, {\"Order\": 16, \"Week\": \"w_4\", \"Ratio\": 0.3076923076923077}, {\"Order\": 16, \"Week\": \"w_5\", \"Ratio\": 0.2727272727272727}, {\"Order\": 16, \"Week\": \"w_6\", \"Ratio\": 0.2222222222222222}, {\"Order\": 16, \"Week\": \"w_7\", \"Ratio\": 0.16666666666666666}, {\"Order\": 16, \"Week\": \"w_8\", \"Ratio\": 0.25}, {\"Order\": 16, \"Week\": \"w_9\", \"Ratio\": 0.3333333333333333}, {\"Order\": 16, \"Week\": \"w_10\", \"Ratio\": 0.5}, {\"Order\": 17, \"Week\": \"w_1\", \"Ratio\": 0.24}, {\"Order\": 17, \"Week\": \"w_2\", \"Ratio\": 0.21052631578947367}, {\"Order\": 17, \"Week\": \"w_3\", \"Ratio\": 0.1875}, {\"Order\": 17, \"Week\": \"w_4\", \"Ratio\": 0.23076923076923078}, {\"Order\": 17, \"Week\": \"w_5\", \"Ratio\": 0.2727272727272727}, {\"Order\": 17, \"Week\": \"w_6\", \"Ratio\": 0.25}, {\"Order\": 17, \"Week\": \"w_7\", \"Ratio\": 0.0}, {\"Order\": 17, \"Week\": \"w_8\", \"Ratio\": 0.0}, {\"Order\": 17, \"Week\": \"w_9\", \"Ratio\": 0.0}, {\"Order\": 17, \"Week\": \"w_10\", \"Ratio\": 0.0}, {\"Order\": 18, \"Week\": \"w_1\", \"Ratio\": 0.1111111111111111}, {\"Order\": 18, \"Week\": \"w_2\", \"Ratio\": 0.16666666666666666}, {\"Order\": 18, \"Week\": \"w_3\", \"Ratio\": 0.13333333333333333}, {\"Order\": 18, \"Week\": \"w_4\", \"Ratio\": 0.15384615384615385}, {\"Order\": 18, \"Week\": \"w_5\", \"Ratio\": 0.18181818181818182}, {\"Order\": 18, \"Week\": \"w_6\", \"Ratio\": 0.125}, {\"Order\": 18, \"Week\": \"w_7\", \"Ratio\": 0.16666666666666666}, {\"Order\": 18, \"Week\": \"w_8\", \"Ratio\": 0.0}, {\"Order\": 18, \"Week\": \"w_9\", \"Ratio\": 0.0}, {\"Order\": 18, \"Week\": \"w_10\", \"Ratio\": 0.0}, {\"Order\": 19, \"Week\": \"w_1\", \"Ratio\": 0.12}, {\"Order\": 19, \"Week\": \"w_2\", \"Ratio\": 0.15789473684210525}, {\"Order\": 19, \"Week\": \"w_3\", \"Ratio\": 0.1875}, {\"Order\": 19, \"Week\": \"w_4\", \"Ratio\": 0.15384615384615385}, {\"Order\": 19, \"Week\": \"w_5\", \"Ratio\": 0.09090909090909091}, {\"Order\": 19, \"Week\": \"w_6\", \"Ratio\": 0.0}, {\"Order\": 19, \"Week\": \"w_7\", \"Ratio\": 0.0}, {\"Order\": 19, \"Week\": \"w_8\", \"Ratio\": 0.0}, {\"Order\": 19, \"Week\": \"w_9\", \"Ratio\": 0.0}, {\"Order\": 19, \"Week\": \"w_10\", \"Ratio\": 0.0}, {\"Order\": 20, \"Week\": \"w_1\", \"Ratio\": 0.06666666666666667}, {\"Order\": 20, \"Week\": \"w_2\", \"Ratio\": 0.09090909090909091}, {\"Order\": 20, \"Week\": \"w_3\", \"Ratio\": 0.1111111111111111}, {\"Order\": 20, \"Week\": \"w_4\", \"Ratio\": 0.06666666666666667}, {\"Order\": 20, \"Week\": \"w_5\", \"Ratio\": 0.09090909090909091}, {\"Order\": 20, \"Week\": \"w_6\", \"Ratio\": 0.1111111111111111}, {\"Order\": 20, \"Week\": \"w_7\", \"Ratio\": 0.16666666666666666}, {\"Order\": 20, \"Week\": \"w_8\", \"Ratio\": 0.0}, {\"Order\": 20, \"Week\": \"w_9\", \"Ratio\": 0.0}, {\"Order\": 20, \"Week\": \"w_10\", \"Ratio\": 0.0}, {\"Order\": 21, \"Week\": \"w_1\", \"Ratio\": 0.15384615384615385}, {\"Order\": 21, \"Week\": \"w_2\", \"Ratio\": 0.15}, {\"Order\": 21, \"Week\": \"w_3\", \"Ratio\": 0.11764705882352941}, {\"Order\": 21, \"Week\": \"w_4\", \"Ratio\": 0.13333333333333333}, {\"Order\": 21, \"Week\": \"w_5\", \"Ratio\": 0.08333333333333333}, {\"Order\": 21, \"Week\": \"w_6\", \"Ratio\": 0.0}, {\"Order\": 21, \"Week\": \"w_7\", \"Ratio\": 0.0}, {\"Order\": 21, \"Week\": \"w_8\", \"Ratio\": 0.0}, {\"Order\": 21, \"Week\": \"w_9\", \"Ratio\": 0.0}, {\"Order\": 21, \"Week\": \"w_10\", \"Ratio\": 0.0}, {\"Order\": 22, \"Week\": \"w_1\", \"Ratio\": 0.14285714285714285}, {\"Order\": 22, \"Week\": \"w_2\", \"Ratio\": 0.19047619047619047}, {\"Order\": 22, \"Week\": \"w_3\", \"Ratio\": 0.23529411764705882}, {\"Order\": 22, \"Week\": \"w_4\", \"Ratio\": 0.21428571428571427}, {\"Order\": 22, \"Week\": \"w_5\", \"Ratio\": 0.18181818181818182}, {\"Order\": 22, \"Week\": \"w_6\", \"Ratio\": 0.1111111111111111}, {\"Order\": 22, \"Week\": \"w_7\", \"Ratio\": 0.16666666666666666}, {\"Order\": 22, \"Week\": \"w_8\", \"Ratio\": 0.25}, {\"Order\": 22, \"Week\": \"w_9\", \"Ratio\": 0.3333333333333333}, {\"Order\": 22, \"Week\": \"w_10\", \"Ratio\": 0.0}, {\"Order\": 23, \"Week\": \"w_1\", \"Ratio\": 0.2692307692307692}, {\"Order\": 23, \"Week\": \"w_2\", \"Ratio\": 0.15}, {\"Order\": 23, \"Week\": \"w_3\", \"Ratio\": 0.17647058823529413}, {\"Order\": 23, \"Week\": \"w_4\", \"Ratio\": 0.07142857142857142}, {\"Order\": 23, \"Week\": \"w_5\", \"Ratio\": 0.09090909090909091}, {\"Order\": 23, \"Week\": \"w_6\", \"Ratio\": 0.0}, {\"Order\": 23, \"Week\": \"w_7\", \"Ratio\": 0.0}, {\"Order\": 23, \"Week\": \"w_8\", \"Ratio\": 0.0}, {\"Order\": 23, \"Week\": \"w_9\", \"Ratio\": 0.0}, {\"Order\": 23, \"Week\": \"w_10\", \"Ratio\": 0.0}, {\"Order\": 24, \"Week\": \"w_1\", \"Ratio\": 0.36666666666666664}, {\"Order\": 24, \"Week\": \"w_2\", \"Ratio\": 0.3181818181818182}, {\"Order\": 24, \"Week\": \"w_3\", \"Ratio\": 0.3888888888888889}, {\"Order\": 24, \"Week\": \"w_4\", \"Ratio\": 0.3333333333333333}, {\"Order\": 24, \"Week\": \"w_5\", \"Ratio\": 0.38461538461538464}, {\"Order\": 24, \"Week\": \"w_6\", \"Ratio\": 0.3333333333333333}, {\"Order\": 24, \"Week\": \"w_7\", \"Ratio\": 0.16666666666666666}, {\"Order\": 24, \"Week\": \"w_8\", \"Ratio\": 0.25}, {\"Order\": 24, \"Week\": \"w_9\", \"Ratio\": 0.3333333333333333}, {\"Order\": 24, \"Week\": \"w_10\", \"Ratio\": 0.0}, {\"Order\": 25, \"Week\": \"w_1\", \"Ratio\": 0.5161290322580645}, {\"Order\": 25, \"Week\": \"w_2\", \"Ratio\": 0.43478260869565216}, {\"Order\": 25, \"Week\": \"w_3\", \"Ratio\": 0.47368421052631576}, {\"Order\": 25, \"Week\": \"w_4\", \"Ratio\": 0.4666666666666667}, {\"Order\": 25, \"Week\": \"w_5\", \"Ratio\": 0.5}, {\"Order\": 25, \"Week\": \"w_6\", \"Ratio\": 0.4444444444444444}, {\"Order\": 25, \"Week\": \"w_7\", \"Ratio\": 0.3333333333333333}, {\"Order\": 25, \"Week\": \"w_8\", \"Ratio\": 0.5}, {\"Order\": 25, \"Week\": \"w_9\", \"Ratio\": 0.6666666666666666}, {\"Order\": 25, \"Week\": \"w_10\", \"Ratio\": 0.5}]'"
      ]
     },
     "execution_count": 107,
     "metadata": {},
     "output_type": "execute_result"
    }
   ],
   "source": [
    "json.dumps(F)"
   ]
  },
  {
   "cell_type": "code",
   "execution_count": null,
   "metadata": {},
   "outputs": [],
   "source": []
  }
 ],
 "metadata": {
  "kernelspec": {
   "display_name": "Python 3",
   "language": "python",
   "name": "python3"
  },
  "language_info": {
   "codemirror_mode": {
    "name": "ipython",
    "version": 3
   },
   "file_extension": ".py",
   "mimetype": "text/x-python",
   "name": "python",
   "nbconvert_exporter": "python",
   "pygments_lexer": "ipython3",
   "version": "3.7.0"
  }
 },
 "nbformat": 4,
 "nbformat_minor": 2
}
